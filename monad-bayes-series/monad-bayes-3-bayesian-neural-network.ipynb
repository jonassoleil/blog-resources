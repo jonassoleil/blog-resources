{
 "cells": [
  {
   "cell_type": "markdown",
   "metadata": {},
   "source": [
    "# Probabilistic Programming with Haskell\n",
    "\n",
    "Siddhart Bath, Simeon Carstens, Matthias Meschede\n",
    "\n",
    "_first published on www.tweag.io/blog_"
   ]
  },
  {
   "cell_type": "markdown",
   "metadata": {},
   "source": [
    "#### imports"
   ]
  },
  {
   "cell_type": "code",
   "execution_count": 1,
   "metadata": {
    "jupyter": {
     "source_hidden": true
    }
   },
   "outputs": [],
   "source": [
    ":e OverloadedStrings\n",
    ":e ExistentialQuantification\n",
    ":e FlexibleContexts\n",
    "\n",
    "import System.Random.MWC (createSystemRandom)\n",
    "import qualified Graphics.Vega.VegaLite as VL\n",
    "import IHaskell.Display.Hvega (vlShow)\n",
    "import Data.Aeson (ToJSON(toJSON), Value)\n",
    "import Data.Aeson (encode)\n",
    "import qualified Data.ByteString.Lazy.Char8 as BL\n",
    "import Data.Text (Text, pack)\n",
    "import qualified Data.Histogram as DH\n",
    "import qualified Data.Histogram.Fill as DF\n",
    "import qualified Data.Histogram.Bin.Bin2D as Bin2D\n",
    "import Data.Vector.Unboxed.Base (Unbox)\n",
    "import qualified Data.Vector.Unboxed as Vec\n",
    "\n",
    "import Control.Monad (liftM2, replicateM, forM, forM_)\n",
    "import Control.Monad.IO.Class (liftIO)\n",
    "import Data.List (sort)\n",
    "import Control.Monad.Bayes.Class\n",
    "import Control.Monad.Bayes.Sampler\n",
    "import Control.Monad.Bayes.Traced\n",
    "import Control.Monad.Bayes.Weighted\n",
    "import Control.Monad.Bayes.Inference.SMC as SMC\n",
    "import Control.Monad.Bayes.Inference.RMSMC as RMSMC\n",
    "import Control.Monad.Bayes.Sequential\n",
    "import Control.Monad.Bayes.Population\n",
    "import Control.Monad.Bayes.Traced.Static (Traced)\n",
    "import Control.Monad.Bayes.Inference.SMC\n",
    "import Numeric.LinearAlgebra (Matrix, Vector, toList, vector, matrix, dot, (#>), (!), cmap, scalar, size)\n",
    "\n",
    "import Numeric.Log\n",
    "import Control.Monad.Bayes.Class\n",
    "\n",
    "import Data.List (partition)"
   ]
  },
  {
   "cell_type": "markdown",
   "metadata": {},
   "source": [
    "#### Plotting"
   ]
  },
  {
   "cell_type": "code",
   "execution_count": 2,
   "metadata": {
    "jupyter": {
     "source_hidden": true
    }
   },
   "outputs": [],
   "source": [
    "histo2D :: (Foldable f, Unbox val, Num val) =>\n",
    "    (Double, Int, Double)\n",
    "    -> (Double, Int, Double)\n",
    "    -> f (Double, Double)\n",
    "    -> DH.Histogram (Bin2D.Bin2D DH.BinD DH.BinD) val\n",
    "histo2D (xmin, xn, xmax) (ymin, yn, ymax) = DF.fillBuilder buildr\n",
    "  where\n",
    "    binX = DH.binD xmin xn xmax\n",
    "    binY = DH.binD ymin yn ymax\n",
    "    bins = Bin2D.Bin2D binX binY\n",
    "    buildr = DF.mkSimple bins\n",
    "    \n",
    "histo :: (Foldable v, Unbox a, Num a) =>\n",
    "         (Double, Int, Double)\n",
    "      -> v Double\n",
    "      -> DH.Histogram DF.BinD a\n",
    "histo (xmin, n, xmax) = DF.fillBuilder buildr\n",
    "  where\n",
    "    bins = DH.binD xmin n xmax\n",
    "    buildr = DF.mkSimple bins"
   ]
  },
  {
   "cell_type": "code",
   "execution_count": 3,
   "metadata": {
    "jupyter": {
     "source_hidden": true
    }
   },
   "outputs": [],
   "source": [
    "barPlot :: Text -> VL.VLSpec\n",
    "barPlot xName = \n",
    "    let encoding = VL.encoding\n",
    "            . VL.position VL.X [VL.PName xName, VL.PmType VL.Nominal]\n",
    "            . VL.position VL.Y [VL.PName \"binnedData\", VL.PAggregate VL.Count, VL.PmType VL.Quantitative, VL.PAxis [VL.AxTitle \"count\"]]\n",
    "    in VL.asSpec [VL.mark VL.Bar [VL.MOpacity 1.0, VL.MColor \"#a3c6de\"], encoding []]\n",
    "\n",
    "linePlot :: Text -> Text -> VL.VLSpec\n",
    "linePlot xName yName = \n",
    "  let encoding = VL.encoding\n",
    "            . VL.position VL.X [VL.PName xName, VL.PmType VL.Quantitative]\n",
    "            . VL.position VL.Y [VL.PName yName, VL.PmType VL.Quantitative]\n",
    "  in VL.asSpec [VL.mark VL.Line [VL.MColor \"blue\"], encoding []]\n",
    "\n",
    "scatterBlue xName yName (xmin, xmax) (ymin, ymax) =\n",
    "  let encoding = VL.encoding\n",
    "            . VL.position VL.X [VL.PName xName, VL.PmType VL.Quantitative, VL.PScale [VL.SDomain $ VL.DNumbers [xmin, xmax]]]\n",
    "            . VL.position VL.Y [VL.PName yName, VL.PmType VL.Quantitative, VL.PScale [VL.SDomain $ VL.DNumbers [ymin, ymax]]]\n",
    "  in VL.asSpec [VL.mark VL.Circle [VL.MColor \"blue\"], encoding []]\n",
    "  \n",
    "scatterGreen xName yName (xmin, xmax) (ymin, ymax) =\n",
    "  let encoding = VL.encoding\n",
    "            . VL.position VL.X [VL.PName xName, VL.PmType VL.Quantitative, VL.PScale [VL.SDomain $ VL.DNumbers [xmin, xmax]]]\n",
    "            . VL.position VL.Y [VL.PName yName, VL.PmType VL.Quantitative, VL.PScale [VL.SDomain $ VL.DNumbers [ymin, ymax]]]\n",
    "  in VL.asSpec [VL.mark VL.Circle [VL.MColor \"green\"], encoding []]\n",
    "  \n",
    "scatterPlotWithColor :: Text -> Text -> Text -> (Double, Double) -> (Double, Double) -> VL.VLSpec\n",
    "scatterPlotWithColor xName yName zName (xmin, xmax) (ymin, ymax) =\n",
    "  let encoding = VL.encoding\n",
    "            . VL.position VL.X [VL.PName xName, VL.PmType VL.Quantitative, VL.PScale [VL.SDomain $ VL.DNumbers [xmin, xmax]]]\n",
    "            . VL.position VL.Y [VL.PName yName, VL.PmType VL.Quantitative, VL.PScale [VL.SDomain $ VL.DNumbers [ymin, ymax]]]\n",
    "            . VL.color [ VL.MName zName, VL.MmType VL.Quantitative, VL.MScale [VL.SScheme \"blues\" [0.0, 1.0]]]\n",
    "  in VL.asSpec [VL.mark VL.Circle [], encoding []]\n",
    "\n",
    "density2DPlot :: Text -> Text -> (Double, Double) -> (Double, Double) -> VL.VLSpec\n",
    "density2DPlot xName yName (xmin, xmax) (ymin, ymax) =\n",
    "  let encoding = VL.encoding\n",
    "            . VL.position VL.X [VL.PName xName, VL.PBin [VL.Nice False, VL.Steps [0.05, 0.5, 5.0], VL.Extent xmin xmax], VL.PmType VL.Quantitative]\n",
    "            . VL.position VL.Y [VL.PName yName, VL.PBin [VL.Nice False, VL.Steps [0.05, 0.5, 5.0], VL.Extent ymin ymax], VL.PmType VL.Quantitative]\n",
    "            . VL.color [ VL.MAggregate VL.Count, VL.MName \"col\", VL.MmType VL.Quantitative, VL.MScale [VL.SScheme \"blues\" [0.0, 1.0]]]\n",
    "  in VL.asSpec [VL.mark VL.Rect [], encoding []]\n",
    "\n",
    "imagePlot :: Text -> Text -> Text -> VL.VLSpec\n",
    "imagePlot xName yName zName =\n",
    "  let encoding = VL.encoding\n",
    "            . VL.position VL.X [VL.PName xName, VL.PmType VL.Nominal, VL.PAxis [VL.AxGridOpacity 0.1]]\n",
    "            . VL.position VL.Y [VL.PName yName, VL.PmType VL.Nominal, VL.PSort [VL.Descending], VL.PAxis [VL.AxGridOpacity 0.1]]\n",
    "            . VL.fill [ VL.MName zName, VL.MmType VL.Quantitative, VL.MScale [VL.SScheme \"blues\" [0.0, 1.0]]]\n",
    "            . VL.stroke [ VL.MName zName, VL.MmType VL.Quantitative, VL.MScale [VL.SScheme \"blues\" [0.0, 1.0]],\n",
    "                          VL.MLegend [VL.LType VL.GradientLegend]]\n",
    "  in VL.asSpec [VL.mark VL.Rect [], encoding []]\n",
    "  \n",
    "imageFacetPlot :: Text -> Text -> Text -> VL.VLSpec\n",
    "imageFacetPlot xName yName zName =\n",
    "  let encoding = VL.encoding\n",
    "            . VL.position VL.X [VL.PName xName, VL.PmType VL.Ordinal, VL.PAxis [VL.AxGrid False]]\n",
    "            . VL.position VL.Y [VL.PName yName, VL.PmType VL.Ordinal, VL.PSort [VL.Descending], VL.PAxis [VL.AxGrid False]]\n",
    "            . VL.fill [ VL.MName zName, VL.MmType VL.Quantitative, VL.MScale [VL.SScheme \"blues\" [0.0, 1.0]], VL.MLegend [VL.LOrient VL.LOBottom]]\n",
    "            . VL.stroke [ VL.MName zName, VL.MmType VL.Quantitative, VL.MScale [VL.SScheme \"blues\" [0.0, 1.0]],\n",
    "                          VL.MLegend [VL.LOrient VL.LOBottom, VL.LDirection VL.Horizontal, VL.LType VL.GradientLegend]]\n",
    "  in VL.asSpec [VL.mark VL.Rect [], encoding [], VL.width 200,  VL.height 100]\n",
    "\n",
    "data SpecGrid = H [[VL.VLSpec]] | V [[VL.VLSpec]] | L [VL.VLSpec] | S VL.VLSpec | F (Text, Int, VL.VLSpec)\n",
    "\n",
    "data InputData = Cols [(Text, VL.DataValues)]\n",
    "               | File FilePath\n",
    "\n",
    "plot :: (Double, Double) -> SpecGrid -> InputData -> VL.VegaLite\n",
    "plot (figw,figh) specGrid dataPoints =\n",
    "    let description = VL.description \"Plot\"\n",
    "        dat' = case dataPoints of\n",
    "            Cols cols -> foldl (.) (VL.dataFromColumns []) (map (uncurry VL.dataColumn) cols) []\n",
    "            File fp -> VL.dataFromSource (pack fp) []\n",
    "        configure = VL.configure\n",
    "            . VL.configuration (VL.Axis\n",
    "                                        [ VL.Domain False,\n",
    "                                          VL.LabelColor \"#7F7F7F\",\n",
    "                                          VL.LabelPadding 4,\n",
    "                                          VL.TickColor \"#7F7F7F\",\n",
    "                                          VL.TickSize 5.67,\n",
    "                                          VL.Grid True,\n",
    "                                          VL.GridColor \"#FFFFFF\"\n",
    "                                          ])\n",
    "        spec = case specGrid of\n",
    "            S s -> VL.layer [s]\n",
    "            L ls -> VL.layer ls\n",
    "            H lss -> VL.hConcat (map (VL.asSpec . (:[]) . VL.layer) lss)\n",
    "            V lss -> VL.vConcat (map (VL.asSpec . (:[]) . VL.layer) lss)\n",
    "            F (_, _, s) -> VL.specification s\n",
    "        facet = case specGrid of\n",
    "            F (field, nColumns, _) -> [VL.columns $ fromIntegral nColumns, VL.facetFlow [VL.FName field, VL.FmType VL.Nominal]]\n",
    "            _   -> [VL.width figw,  VL.height figh]\n",
    "    in VL.toVegaLite $ [VL.background \"#f9f9f9\", configure [], description, dat', spec] ++ facet"
   ]
  },
  {
   "cell_type": "markdown",
   "metadata": {},
   "source": [
    "## Part 3: A Simple Neural Network\n",
    "\n",
    "This post is a continuation of Tweag's _**Probabilistic Programming with monad‑bayes Series**_.\n",
    "You can find [Part 1: Introduction here](https://www.tweag.io/posts/2019-09-20-monad-bayes-1.html), and [Part 2: Linear Regression here](https://www.tweag.io/posts/2019-11-08-monad-bayes-2.html).\n",
    "Want to make this post interactive?\n",
    "Try our [notebook version](https://github.com/tweag/blog-resources/tree/master/monad-bayes-series).\n",
    "It includes a Nix shell, the required imports, and some helper routines for plotting. Let's start modeling!"
   ]
  },
  {
   "cell_type": "markdown",
   "metadata": {},
   "source": [
    "### Model Setup\n",
    "\n",
    "We are now ready to tackle a simple neural network model with `monad-bayes`.\n",
    "Sampling from a distribution of neural networks is not much different than sampling from a distribution of lines.\n",
    "The general approach of this post is thus similar to the last one about linear regression.\n",
    "However, we will talk about refinements of the modelling process:\n",
    "\n",
    "First, we show how to break `likelihood` down into a `forwardModel` and an `errorModel`.\n",
    "For those accustomed to neural network terminology: the former describes the deterministic forward pass of our neural network, the latter describes deviations from the output of the forward model and is somehow the Bayesian equivalent of a [loss function](https://en.wikipedia.org/wiki/Loss_function).\n",
    "\n",
    "Second, we demonstrate how `monad-bayes` naturally interacts with other libraries such as the linear algebra matrix [hmatrix](https://www.tweag.io/posts/2017-08-31-hmatrix.html) and its data types.\n",
    "We can easily describe distributions of `hmatrix` vectors and even distributions of a custom neural networks datatype that is defined on top of weight and bias vectors.\n",
    "\n",
    "Let's begin, as previously, with the definition of a two dimensional data type:"
   ]
  },
  {
   "cell_type": "code",
   "execution_count": 37,
   "metadata": {},
   "outputs": [],
   "source": [
    "data Data\n",
    "  = Data\n",
    "      { xValue :: Double,\n",
    "        yValue :: Double\n",
    "      }\n",
    "  deriving (Eq, Show)"
   ]
  },
  {
   "cell_type": "markdown",
   "metadata": {},
   "source": [
    "In our last blog post, we have illustrated that a statistical model defines a parametrized family of distributions:\n",
    "The model links a specific parameter value to a distribution.\n",
    "The linear model corresponded to distributions that were basically spread along a line with some variation around it.\n",
    "We have used three parameters, _slope, intercept, sigma_, to characterize these distributions.\n",
    "\n",
    "Similarly, in this post, we setup a statistical model that describes a parametrized family of distributions.\n",
    "But instead of condensing around a line, these distributions condense around the output of a neural network.\n",
    "We are considering a very simple, single-layered neural network here that consists of one weight vector `weights` and one bias `biass` vector.\n",
    "The distributions is additionally characterized by some variation around its output with standard deviation `sigma`.\n",
    "The model is thus characterized by this `NN` data type:"
   ]
  },
  {
   "cell_type": "code",
   "execution_count": 38,
   "metadata": {},
   "outputs": [],
   "source": [
    "data NN\n",
    "  = NN\n",
    "      { biass :: Vector Double,\n",
    "        weights :: Vector Double,\n",
    "        sigma :: Double\n",
    "      }\n",
    "  deriving (Eq, Show)"
   ]
  },
  {
   "cell_type": "markdown",
   "metadata": {},
   "source": [
    "How do we actually compute the data distribution from these parameters?\n",
    "In addition to the weight and bias vector, our network is characterized by an activation function:"
   ]
  },
  {
   "cell_type": "code",
   "execution_count": 39,
   "metadata": {},
   "outputs": [],
   "source": [
    "activation :: Double -> Double\n",
    "activation x = if x < 0 then 0 else 1"
   ]
  },
  {
   "cell_type": "markdown",
   "metadata": {},
   "source": [
    "The forward pass through the neural network, the forward model, can be computed with this function:"
   ]
  },
  {
   "cell_type": "code",
   "execution_count": 40,
   "metadata": {},
   "outputs": [],
   "source": [
    "forwardNN :: NN -> Double -> Double\n",
    "forwardNN (NN bs ws _) x =  ws `dot` cmap activation (scalar x - bs)"
   ]
  },
  {
   "cell_type": "markdown",
   "metadata": {},
   "source": [
    "For a given neural network `NN`, it takes an input value x and returns an output value y.\n",
    "Note that `forwardNN` is deterministic, it generates a single output value and not a distribution.\n",
    "It is in fact quite easy to understand what it does:\n",
    "The term `cmap activation (scalar x - bs)` is an element wise application of `activation` over a `x` value that is _shifted_ by different amounts stored in `bs`.\n",
    "These x-shifted activation functions are then _scaled_ by different amounts stored in `ws` and summed - that is the `dot` product.\n",
    "\n",
    "We then add normally distributed variations (`errorModel`) to the forward model output:"
   ]
  },
  {
   "cell_type": "code",
   "execution_count": 41,
   "metadata": {},
   "outputs": [
    {
     "data": {
      "text/html": [
       "<style>/* Styles used for the Hoogle display in the pager */\n",
       ".hoogle-doc {\n",
       "display: block;\n",
       "padding-bottom: 1.3em;\n",
       "padding-left: 0.4em;\n",
       "}\n",
       ".hoogle-code {\n",
       "display: block;\n",
       "font-family: monospace;\n",
       "white-space: pre;\n",
       "}\n",
       ".hoogle-text {\n",
       "display: block;\n",
       "}\n",
       ".hoogle-name {\n",
       "color: green;\n",
       "font-weight: bold;\n",
       "}\n",
       ".hoogle-head {\n",
       "font-weight: bold;\n",
       "}\n",
       ".hoogle-sub {\n",
       "display: block;\n",
       "margin-left: 0.4em;\n",
       "}\n",
       ".hoogle-package {\n",
       "font-weight: bold;\n",
       "font-style: italic;\n",
       "}\n",
       ".hoogle-module {\n",
       "font-weight: bold;\n",
       "}\n",
       ".hoogle-class {\n",
       "font-weight: bold;\n",
       "}\n",
       ".get-type {\n",
       "color: green;\n",
       "font-weight: bold;\n",
       "font-family: monospace;\n",
       "display: block;\n",
       "white-space: pre-wrap;\n",
       "}\n",
       ".show-type {\n",
       "color: green;\n",
       "font-weight: bold;\n",
       "font-family: monospace;\n",
       "margin-left: 1em;\n",
       "}\n",
       ".mono {\n",
       "font-family: monospace;\n",
       "display: block;\n",
       "}\n",
       ".err-msg {\n",
       "color: red;\n",
       "font-style: italic;\n",
       "font-family: monospace;\n",
       "white-space: pre;\n",
       "display: block;\n",
       "}\n",
       "#unshowable {\n",
       "color: red;\n",
       "font-weight: bold;\n",
       "}\n",
       ".err-msg.in.collapse {\n",
       "padding-top: 0.7em;\n",
       "}\n",
       ".highlight-code {\n",
       "white-space: pre;\n",
       "font-family: monospace;\n",
       "}\n",
       ".suggestion-warning { \n",
       "font-weight: bold;\n",
       "color: rgb(200, 130, 0);\n",
       "}\n",
       ".suggestion-error { \n",
       "font-weight: bold;\n",
       "color: red;\n",
       "}\n",
       ".suggestion-name {\n",
       "font-weight: bold;\n",
       "}\n",
       "</style><span class='get-type'>errorModel :: Double -> Double -> Double -> Log Double</span>"
      ],
      "text/plain": [
       "errorModel :: Double -> Double -> Double -> Log Double"
      ]
     },
     "metadata": {},
     "output_type": "display_data"
    }
   ],
   "source": [
    "errorModel = normalPdf\n",
    ":t errorModel"
   ]
  },
  {
   "cell_type": "markdown",
   "metadata": {},
   "source": [
    "For a given mean and standard deviation (arguments 1 & 2), `errorModel` returns not a single value but a distribution, that is a function from a `Double` value to `Log Double` probability.\n",
    "The two components, `forwardModel` and `errorModel`, can be combined in a single likelihood:"
   ]
  },
  {
   "cell_type": "code",
   "execution_count": 42,
   "metadata": {},
   "outputs": [],
   "source": [
    "likelihood :: NN -> Data -> Log Double\n",
    "likelihood nn (Data xObs yObs) = errorModel yForward sd yObs\n",
    "  where\n",
    "    sd = sigma nn\n",
    "    yForward = forwardNN nn xObs"
   ]
  },
  {
   "cell_type": "markdown",
   "metadata": {},
   "source": [
    "This likelihood embodies our statistical model:\n",
    "for given parameter values, `weights`, `biass` and standard deviation `sigma`, it returns a data distribution.\n",
    "We can, for example, pick a specific neural network:"
   ]
  },
  {
   "cell_type": "code",
   "execution_count": 43,
   "metadata": {},
   "outputs": [],
   "source": [
    "nn = NN (vector [1, 5, 8]) (vector [2, -5, 1]) 2.0"
   ]
  },
  {
   "cell_type": "markdown",
   "metadata": {},
   "source": [
    "and then plot the corresponding distribution:"
   ]
  },
  {
   "cell_type": "code",
   "execution_count": 44,
   "metadata": {},
   "outputs": [
    {
     "data": {
      "application/vnd.vegalite.v2+json": {
       "$schema": "https://vega.github.io/schema/vega-lite/v3.json",
       "background": "#f9f9f9",
       "config": {
        "axis": {
         "domain": false,
         "grid": true,
         "gridColor": "#FFFFFF",
         "labelColor": "#7F7F7F",
         "labelPadding": 4,
         "tickColor": "#7F7F7F",
         "tickSize": 5.67
        }
       },
       "data": {
        "values": [
         {
          "x": 0,
          "y": -10,
          "z": 7.433597573671492e-07
         },
         {
          "x": 0,
          "y": -9,
          "z": 7.99187055345274e-06
         },
         {
          "x": 0,
          "y": -8,
          "z": 6.691511288244271e-05
         },
         {
          "x": 0,
          "y": -7,
          "z": 0.00043634134752288024
         },
         {
          "x": 0,
          "y": -6,
          "z": 0.0022159242059690046
         },
         {
          "x": 0,
          "y": -5,
          "z": 0.008764150246784272
         },
         {
          "x": 0,
          "y": -4,
          "z": 0.026995483256594024
         },
         {
          "x": 0,
          "y": -3,
          "z": 0.06475879783294586
         },
         {
          "x": 0,
          "y": -2,
          "z": 0.12098536225957167
         },
         {
          "x": 0,
          "y": -1,
          "z": 0.17603266338214973
         },
         {
          "x": 0,
          "y": 0,
          "z": 0.19947114020071632
         },
         {
          "x": 0,
          "y": 1,
          "z": 0.17603266338214973
         },
         {
          "x": 0,
          "y": 2,
          "z": 0.12098536225957167
         },
         {
          "x": 0,
          "y": 3,
          "z": 0.06475879783294586
         },
         {
          "x": 0,
          "y": 4,
          "z": 0.026995483256594024
         },
         {
          "x": 0,
          "y": 5,
          "z": 0.008764150246784272
         },
         {
          "x": 0,
          "y": 6,
          "z": 0.0022159242059690046
         },
         {
          "x": 0,
          "y": 7,
          "z": 0.00043634134752288024
         },
         {
          "x": 0,
          "y": 8,
          "z": 6.691511288244271e-05
         },
         {
          "x": 0,
          "y": 9,
          "z": 7.99187055345274e-06
         },
         {
          "x": 0,
          "y": 10,
          "z": 7.433597573671492e-07
         },
         {
          "x": 1,
          "y": -10,
          "z": 3.037941424911644e-09
         },
         {
          "x": 1,
          "y": -9,
          "z": 5.384880021271641e-08
         },
         {
          "x": 1,
          "y": -8,
          "z": 7.433597573671492e-07
         },
         {
          "x": 1,
          "y": -7,
          "z": 7.99187055345274e-06
         },
         {
          "x": 1,
          "y": -6,
          "z": 6.691511288244271e-05
         },
         {
          "x": 1,
          "y": -5,
          "z": 0.00043634134752288024
         },
         {
          "x": 1,
          "y": -4,
          "z": 0.0022159242059690046
         },
         {
          "x": 1,
          "y": -3,
          "z": 0.008764150246784272
         },
         {
          "x": 1,
          "y": -2,
          "z": 0.026995483256594024
         },
         {
          "x": 1,
          "y": -1,
          "z": 0.06475879783294586
         },
         {
          "x": 1,
          "y": 0,
          "z": 0.12098536225957167
         },
         {
          "x": 1,
          "y": 1,
          "z": 0.17603266338214973
         },
         {
          "x": 1,
          "y": 2,
          "z": 0.19947114020071632
         },
         {
          "x": 1,
          "y": 3,
          "z": 0.17603266338214973
         },
         {
          "x": 1,
          "y": 4,
          "z": 0.12098536225957167
         },
         {
          "x": 1,
          "y": 5,
          "z": 0.06475879783294586
         },
         {
          "x": 1,
          "y": 6,
          "z": 0.026995483256594024
         },
         {
          "x": 1,
          "y": 7,
          "z": 0.008764150246784272
         },
         {
          "x": 1,
          "y": 8,
          "z": 0.0022159242059690046
         },
         {
          "x": 1,
          "y": 9,
          "z": 0.00043634134752288024
         },
         {
          "x": 1,
          "y": 10,
          "z": 6.691511288244271e-05
         },
         {
          "x": 2,
          "y": -10,
          "z": 3.037941424911644e-09
         },
         {
          "x": 2,
          "y": -9,
          "z": 5.384880021271641e-08
         },
         {
          "x": 2,
          "y": -8,
          "z": 7.433597573671492e-07
         },
         {
          "x": 2,
          "y": -7,
          "z": 7.99187055345274e-06
         },
         {
          "x": 2,
          "y": -6,
          "z": 6.691511288244271e-05
         },
         {
          "x": 2,
          "y": -5,
          "z": 0.00043634134752288024
         },
         {
          "x": 2,
          "y": -4,
          "z": 0.0022159242059690046
         },
         {
          "x": 2,
          "y": -3,
          "z": 0.008764150246784272
         },
         {
          "x": 2,
          "y": -2,
          "z": 0.026995483256594024
         },
         {
          "x": 2,
          "y": -1,
          "z": 0.06475879783294586
         },
         {
          "x": 2,
          "y": 0,
          "z": 0.12098536225957167
         },
         {
          "x": 2,
          "y": 1,
          "z": 0.17603266338214973
         },
         {
          "x": 2,
          "y": 2,
          "z": 0.19947114020071632
         },
         {
          "x": 2,
          "y": 3,
          "z": 0.17603266338214973
         },
         {
          "x": 2,
          "y": 4,
          "z": 0.12098536225957167
         },
         {
          "x": 2,
          "y": 5,
          "z": 0.06475879783294586
         },
         {
          "x": 2,
          "y": 6,
          "z": 0.026995483256594024
         },
         {
          "x": 2,
          "y": 7,
          "z": 0.008764150246784272
         },
         {
          "x": 2,
          "y": 8,
          "z": 0.0022159242059690046
         },
         {
          "x": 2,
          "y": 9,
          "z": 0.00043634134752288024
         },
         {
          "x": 2,
          "y": 10,
          "z": 6.691511288244271e-05
         },
         {
          "x": 3,
          "y": -10,
          "z": 3.037941424911644e-09
         },
         {
          "x": 3,
          "y": -9,
          "z": 5.384880021271641e-08
         },
         {
          "x": 3,
          "y": -8,
          "z": 7.433597573671492e-07
         },
         {
          "x": 3,
          "y": -7,
          "z": 7.99187055345274e-06
         },
         {
          "x": 3,
          "y": -6,
          "z": 6.691511288244271e-05
         },
         {
          "x": 3,
          "y": -5,
          "z": 0.00043634134752288024
         },
         {
          "x": 3,
          "y": -4,
          "z": 0.0022159242059690046
         },
         {
          "x": 3,
          "y": -3,
          "z": 0.008764150246784272
         },
         {
          "x": 3,
          "y": -2,
          "z": 0.026995483256594024
         },
         {
          "x": 3,
          "y": -1,
          "z": 0.06475879783294586
         },
         {
          "x": 3,
          "y": 0,
          "z": 0.12098536225957167
         },
         {
          "x": 3,
          "y": 1,
          "z": 0.17603266338214973
         },
         {
          "x": 3,
          "y": 2,
          "z": 0.19947114020071632
         },
         {
          "x": 3,
          "y": 3,
          "z": 0.17603266338214973
         },
         {
          "x": 3,
          "y": 4,
          "z": 0.12098536225957167
         },
         {
          "x": 3,
          "y": 5,
          "z": 0.06475879783294586
         },
         {
          "x": 3,
          "y": 6,
          "z": 0.026995483256594024
         },
         {
          "x": 3,
          "y": 7,
          "z": 0.008764150246784272
         },
         {
          "x": 3,
          "y": 8,
          "z": 0.0022159242059690046
         },
         {
          "x": 3,
          "y": 9,
          "z": 0.00043634134752288024
         },
         {
          "x": 3,
          "y": 10,
          "z": 6.691511288244271e-05
         },
         {
          "x": 4,
          "y": -10,
          "z": 3.037941424911644e-09
         },
         {
          "x": 4,
          "y": -9,
          "z": 5.384880021271641e-08
         },
         {
          "x": 4,
          "y": -8,
          "z": 7.433597573671492e-07
         },
         {
          "x": 4,
          "y": -7,
          "z": 7.99187055345274e-06
         },
         {
          "x": 4,
          "y": -6,
          "z": 6.691511288244271e-05
         },
         {
          "x": 4,
          "y": -5,
          "z": 0.00043634134752288024
         },
         {
          "x": 4,
          "y": -4,
          "z": 0.0022159242059690046
         },
         {
          "x": 4,
          "y": -3,
          "z": 0.008764150246784272
         },
         {
          "x": 4,
          "y": -2,
          "z": 0.026995483256594024
         },
         {
          "x": 4,
          "y": -1,
          "z": 0.06475879783294586
         },
         {
          "x": 4,
          "y": 0,
          "z": 0.12098536225957167
         },
         {
          "x": 4,
          "y": 1,
          "z": 0.17603266338214973
         },
         {
          "x": 4,
          "y": 2,
          "z": 0.19947114020071632
         },
         {
          "x": 4,
          "y": 3,
          "z": 0.17603266338214973
         },
         {
          "x": 4,
          "y": 4,
          "z": 0.12098536225957167
         },
         {
          "x": 4,
          "y": 5,
          "z": 0.06475879783294586
         },
         {
          "x": 4,
          "y": 6,
          "z": 0.026995483256594024
         },
         {
          "x": 4,
          "y": 7,
          "z": 0.008764150246784272
         },
         {
          "x": 4,
          "y": 8,
          "z": 0.0022159242059690046
         },
         {
          "x": 4,
          "y": 9,
          "z": 0.00043634134752288024
         },
         {
          "x": 4,
          "y": 10,
          "z": 6.691511288244271e-05
         },
         {
          "x": 5,
          "y": -10,
          "z": 0.00043634134752288024
         },
         {
          "x": 5,
          "y": -9,
          "z": 0.0022159242059690046
         },
         {
          "x": 5,
          "y": -8,
          "z": 0.008764150246784272
         },
         {
          "x": 5,
          "y": -7,
          "z": 0.026995483256594024
         },
         {
          "x": 5,
          "y": -6,
          "z": 0.06475879783294586
         },
         {
          "x": 5,
          "y": -5,
          "z": 0.12098536225957167
         },
         {
          "x": 5,
          "y": -4,
          "z": 0.17603266338214973
         },
         {
          "x": 5,
          "y": -3,
          "z": 0.19947114020071632
         },
         {
          "x": 5,
          "y": -2,
          "z": 0.17603266338214973
         },
         {
          "x": 5,
          "y": -1,
          "z": 0.12098536225957167
         },
         {
          "x": 5,
          "y": 0,
          "z": 0.06475879783294586
         },
         {
          "x": 5,
          "y": 1,
          "z": 0.026995483256594024
         },
         {
          "x": 5,
          "y": 2,
          "z": 0.008764150246784272
         },
         {
          "x": 5,
          "y": 3,
          "z": 0.0022159242059690046
         },
         {
          "x": 5,
          "y": 4,
          "z": 0.00043634134752288024
         },
         {
          "x": 5,
          "y": 5,
          "z": 6.691511288244271e-05
         },
         {
          "x": 5,
          "y": 6,
          "z": 7.99187055345274e-06
         },
         {
          "x": 5,
          "y": 7,
          "z": 7.433597573671492e-07
         },
         {
          "x": 5,
          "y": 8,
          "z": 5.384880021271641e-08
         },
         {
          "x": 5,
          "y": 9,
          "z": 3.037941424911644e-09
         },
         {
          "x": 5,
          "y": 10,
          "z": 1.3347783073814265e-10
         },
         {
          "x": 6,
          "y": -10,
          "z": 0.00043634134752288024
         },
         {
          "x": 6,
          "y": -9,
          "z": 0.0022159242059690046
         },
         {
          "x": 6,
          "y": -8,
          "z": 0.008764150246784272
         },
         {
          "x": 6,
          "y": -7,
          "z": 0.026995483256594024
         },
         {
          "x": 6,
          "y": -6,
          "z": 0.06475879783294586
         },
         {
          "x": 6,
          "y": -5,
          "z": 0.12098536225957167
         },
         {
          "x": 6,
          "y": -4,
          "z": 0.17603266338214973
         },
         {
          "x": 6,
          "y": -3,
          "z": 0.19947114020071632
         },
         {
          "x": 6,
          "y": -2,
          "z": 0.17603266338214973
         },
         {
          "x": 6,
          "y": -1,
          "z": 0.12098536225957167
         },
         {
          "x": 6,
          "y": 0,
          "z": 0.06475879783294586
         },
         {
          "x": 6,
          "y": 1,
          "z": 0.026995483256594024
         },
         {
          "x": 6,
          "y": 2,
          "z": 0.008764150246784272
         },
         {
          "x": 6,
          "y": 3,
          "z": 0.0022159242059690046
         },
         {
          "x": 6,
          "y": 4,
          "z": 0.00043634134752288024
         },
         {
          "x": 6,
          "y": 5,
          "z": 6.691511288244271e-05
         },
         {
          "x": 6,
          "y": 6,
          "z": 7.99187055345274e-06
         },
         {
          "x": 6,
          "y": 7,
          "z": 7.433597573671492e-07
         },
         {
          "x": 6,
          "y": 8,
          "z": 5.384880021271641e-08
         },
         {
          "x": 6,
          "y": 9,
          "z": 3.037941424911644e-09
         },
         {
          "x": 6,
          "y": 10,
          "z": 1.3347783073814265e-10
         },
         {
          "x": 7,
          "y": -10,
          "z": 0.00043634134752288024
         },
         {
          "x": 7,
          "y": -9,
          "z": 0.0022159242059690046
         },
         {
          "x": 7,
          "y": -8,
          "z": 0.008764150246784272
         },
         {
          "x": 7,
          "y": -7,
          "z": 0.026995483256594024
         },
         {
          "x": 7,
          "y": -6,
          "z": 0.06475879783294586
         },
         {
          "x": 7,
          "y": -5,
          "z": 0.12098536225957167
         },
         {
          "x": 7,
          "y": -4,
          "z": 0.17603266338214973
         },
         {
          "x": 7,
          "y": -3,
          "z": 0.19947114020071632
         },
         {
          "x": 7,
          "y": -2,
          "z": 0.17603266338214973
         },
         {
          "x": 7,
          "y": -1,
          "z": 0.12098536225957167
         },
         {
          "x": 7,
          "y": 0,
          "z": 0.06475879783294586
         },
         {
          "x": 7,
          "y": 1,
          "z": 0.026995483256594024
         },
         {
          "x": 7,
          "y": 2,
          "z": 0.008764150246784272
         },
         {
          "x": 7,
          "y": 3,
          "z": 0.0022159242059690046
         },
         {
          "x": 7,
          "y": 4,
          "z": 0.00043634134752288024
         },
         {
          "x": 7,
          "y": 5,
          "z": 6.691511288244271e-05
         },
         {
          "x": 7,
          "y": 6,
          "z": 7.99187055345274e-06
         },
         {
          "x": 7,
          "y": 7,
          "z": 7.433597573671492e-07
         },
         {
          "x": 7,
          "y": 8,
          "z": 5.384880021271641e-08
         },
         {
          "x": 7,
          "y": 9,
          "z": 3.037941424911644e-09
         },
         {
          "x": 7,
          "y": 10,
          "z": 1.3347783073814265e-10
         },
         {
          "x": 8,
          "y": -10,
          "z": 6.691511288244271e-05
         },
         {
          "x": 8,
          "y": -9,
          "z": 0.00043634134752288024
         },
         {
          "x": 8,
          "y": -8,
          "z": 0.0022159242059690046
         },
         {
          "x": 8,
          "y": -7,
          "z": 0.008764150246784272
         },
         {
          "x": 8,
          "y": -6,
          "z": 0.026995483256594024
         },
         {
          "x": 8,
          "y": -5,
          "z": 0.06475879783294586
         },
         {
          "x": 8,
          "y": -4,
          "z": 0.12098536225957167
         },
         {
          "x": 8,
          "y": -3,
          "z": 0.17603266338214973
         },
         {
          "x": 8,
          "y": -2,
          "z": 0.19947114020071632
         },
         {
          "x": 8,
          "y": -1,
          "z": 0.17603266338214973
         },
         {
          "x": 8,
          "y": 0,
          "z": 0.12098536225957167
         },
         {
          "x": 8,
          "y": 1,
          "z": 0.06475879783294586
         },
         {
          "x": 8,
          "y": 2,
          "z": 0.026995483256594024
         },
         {
          "x": 8,
          "y": 3,
          "z": 0.008764150246784272
         },
         {
          "x": 8,
          "y": 4,
          "z": 0.0022159242059690046
         },
         {
          "x": 8,
          "y": 5,
          "z": 0.00043634134752288024
         },
         {
          "x": 8,
          "y": 6,
          "z": 6.691511288244271e-05
         },
         {
          "x": 8,
          "y": 7,
          "z": 7.99187055345274e-06
         },
         {
          "x": 8,
          "y": 8,
          "z": 7.433597573671492e-07
         },
         {
          "x": 8,
          "y": 9,
          "z": 5.384880021271641e-08
         },
         {
          "x": 8,
          "y": 10,
          "z": 3.037941424911644e-09
         },
         {
          "x": 9,
          "y": -10,
          "z": 6.691511288244271e-05
         },
         {
          "x": 9,
          "y": -9,
          "z": 0.00043634134752288024
         },
         {
          "x": 9,
          "y": -8,
          "z": 0.0022159242059690046
         },
         {
          "x": 9,
          "y": -7,
          "z": 0.008764150246784272
         },
         {
          "x": 9,
          "y": -6,
          "z": 0.026995483256594024
         },
         {
          "x": 9,
          "y": -5,
          "z": 0.06475879783294586
         },
         {
          "x": 9,
          "y": -4,
          "z": 0.12098536225957167
         },
         {
          "x": 9,
          "y": -3,
          "z": 0.17603266338214973
         },
         {
          "x": 9,
          "y": -2,
          "z": 0.19947114020071632
         },
         {
          "x": 9,
          "y": -1,
          "z": 0.17603266338214973
         },
         {
          "x": 9,
          "y": 0,
          "z": 0.12098536225957167
         },
         {
          "x": 9,
          "y": 1,
          "z": 0.06475879783294586
         },
         {
          "x": 9,
          "y": 2,
          "z": 0.026995483256594024
         },
         {
          "x": 9,
          "y": 3,
          "z": 0.008764150246784272
         },
         {
          "x": 9,
          "y": 4,
          "z": 0.0022159242059690046
         },
         {
          "x": 9,
          "y": 5,
          "z": 0.00043634134752288024
         },
         {
          "x": 9,
          "y": 6,
          "z": 6.691511288244271e-05
         },
         {
          "x": 9,
          "y": 7,
          "z": 7.99187055345274e-06
         },
         {
          "x": 9,
          "y": 8,
          "z": 7.433597573671492e-07
         },
         {
          "x": 9,
          "y": 9,
          "z": 5.384880021271641e-08
         },
         {
          "x": 9,
          "y": 10,
          "z": 3.037941424911644e-09
         },
         {
          "x": 10,
          "y": -10,
          "z": 6.691511288244271e-05
         },
         {
          "x": 10,
          "y": -9,
          "z": 0.00043634134752288024
         },
         {
          "x": 10,
          "y": -8,
          "z": 0.0022159242059690046
         },
         {
          "x": 10,
          "y": -7,
          "z": 0.008764150246784272
         },
         {
          "x": 10,
          "y": -6,
          "z": 0.026995483256594024
         },
         {
          "x": 10,
          "y": -5,
          "z": 0.06475879783294586
         },
         {
          "x": 10,
          "y": -4,
          "z": 0.12098536225957167
         },
         {
          "x": 10,
          "y": -3,
          "z": 0.17603266338214973
         },
         {
          "x": 10,
          "y": -2,
          "z": 0.19947114020071632
         },
         {
          "x": 10,
          "y": -1,
          "z": 0.17603266338214973
         },
         {
          "x": 10,
          "y": 0,
          "z": 0.12098536225957167
         },
         {
          "x": 10,
          "y": 1,
          "z": 0.06475879783294586
         },
         {
          "x": 10,
          "y": 2,
          "z": 0.026995483256594024
         },
         {
          "x": 10,
          "y": 3,
          "z": 0.008764150246784272
         },
         {
          "x": 10,
          "y": 4,
          "z": 0.0022159242059690046
         },
         {
          "x": 10,
          "y": 5,
          "z": 0.00043634134752288024
         },
         {
          "x": 10,
          "y": 6,
          "z": 6.691511288244271e-05
         },
         {
          "x": 10,
          "y": 7,
          "z": 7.99187055345274e-06
         },
         {
          "x": 10,
          "y": 8,
          "z": 7.433597573671492e-07
         },
         {
          "x": 10,
          "y": 9,
          "z": 5.384880021271641e-08
         },
         {
          "x": 10,
          "y": 10,
          "z": 3.037941424911644e-09
         }
        ]
       },
       "description": "Plot",
       "height": 300,
       "layer": [
        {
         "encoding": {
          "fill": {
           "field": "z",
           "scale": {
            "scheme": {
             "extent": [
              0,
              1
             ],
             "name": "blues"
            }
           },
           "type": "quantitative"
          },
          "stroke": {
           "field": "z",
           "legend": {
            "type": "gradient"
           },
           "scale": {
            "scheme": {
             "extent": [
              0,
              1
             ],
             "name": "blues"
            }
           },
           "type": "quantitative"
          },
          "x": {
           "axis": {
            "gridOpacity": 0.1
           },
           "field": "x",
           "type": "nominal"
          },
          "y": {
           "axis": {
            "gridOpacity": 0.1
           },
           "field": "y",
           "sort": "descending",
           "type": "nominal"
          }
         },
         "mark": "rect"
        }
       ],
       "width": 600
      },
      "image/png": "[encoded data removed]"
     },
     "metadata": {},
     "output_type": "display_data"
    }
   ],
   "source": [
    "points1 = [(x, y, exp . ln $ likelihood nn (Data x y)) | x <- [0 .. 10], y <- [-10 .. 10]]\n",
    "\n",
    "vlShow $\n",
    "  plot\n",
    "    (600, 300)\n",
    "    (L [imagePlot \"x\" \"y\" \"z\"])\n",
    "    ( Cols\n",
    "        [ (\"x\", VL.Numbers ((\\(x, _, _) -> x) <$> points1)),\n",
    "          (\"y\", VL.Numbers ((\\(_, x, _) -> x) <$> points1)),\n",
    "          (\"z\", VL.Numbers ((\\(_, _, x) -> x) <$> points1))\n",
    "        ]\n",
    "    )"
   ]
  },
  {
   "cell_type": "markdown",
   "metadata": {},
   "source": [
    "Can you see the shifted and scaled step activation functions?\n",
    "We are dealing with a three-node neural network here that has three steps:\n",
    "Each element of the bias vector `[1, 5, 8]` corresponds to the x-value (right-shift) of the step function.\n",
    "Each element of the weight vector `[2, -5, 1]` corresponds to its amplitude.\n",
    "The neural network is thus simply a function with 3 steps at positions `biases` and with amplitudes `weights` - but neural network sounds fancier, doesn't it?"
   ]
  },
  {
   "cell_type": "markdown",
   "metadata": {},
   "source": [
    "### Prior, Posterior and Predictive Distribution\n",
    "\n",
    "Now let's try to \"fit\" something with this step-function network.\n",
    "In our context, \"fitting\" means that we want to compare the data distributions that correspond to distribution of neural networks and assess which networks are more or less likely to generate the observed data.\n",
    "\n",
    "How can we describe a distribution of neural networks?\n",
    "Since these networks are defined through hmatrix `Vector` data types, we first need to find out how we can describe a distribution of those.\n",
    "And here is everything that is needed to get a distribution of `Vector`s with uniformly distributed elements via `monad-bayes`:"
   ]
  },
  {
   "cell_type": "code",
   "execution_count": 45,
   "metadata": {},
   "outputs": [],
   "source": [
    "sampleVec :: MonadSample m => (Double, Double) -> Int -> m (Vector Double)\n",
    "sampleVec (wmin, wmax) nelements =\n",
    "  vector <$> replicateM nelements (uniform wmin wmax)"
   ]
  },
  {
   "cell_type": "markdown",
   "metadata": {},
   "source": [
    "From the distribution of vectors `MonadSample m => m (Vector Double)` that `sampleVec` generates, we can define a distribution of neural networks `MonadSample m => m NN`, the prior distribution, that we will assess in the inference process:"
   ]
  },
  {
   "cell_type": "code",
   "execution_count": 46,
   "metadata": {},
   "outputs": [],
   "source": [
    "priorNN :: MonadSample m => Int -> m NN\n",
    "priorNN nnodes = do\n",
    "  bias <- sampleVec (0, 10) nnodes\n",
    "  weight <- sampleVec (-10, 10) nnodes\n",
    "  sigma <- uniform 0.5 1.5\n",
    "  return $ NN bias weight sigma"
   ]
  },
  {
   "cell_type": "markdown",
   "metadata": {},
   "source": [
    "Notice that the priors are chosen voluntarily to correspond to certain intervals.\n",
    "Recall that our neural network is just a bunch of combined steps, where `biass` determines the step positions, and `weights` the step amplitudes.\n",
    "The networks that we consider in our distribution are limited to steps between `0` and `10` on the x-axis, and to amplitudes between `-4` and `4`.\n",
    "Inference is dead easy ..."
   ]
  },
  {
   "cell_type": "code",
   "execution_count": 47,
   "metadata": {},
   "outputs": [],
   "source": [
    "postNN :: MonadInfer m => m NN -> [Data] ->  m NN\n",
    "postNN pr obs = do\n",
    "  nn <- pr\n",
    "  forM_ obs (score . likelihood nn)\n",
    "  return nn"
   ]
  },
  {
   "cell_type": "markdown",
   "metadata": {},
   "source": [
    "... pull a neural network from the prior, compute how likely it is that it generates the observed data and update its prior by this value (score).\n",
    "With the posterior distribution `postNN`, we can also predict new points:"
   ]
  },
  {
   "cell_type": "code",
   "execution_count": 48,
   "metadata": {},
   "outputs": [],
   "source": [
    "predDist :: MonadInfer m => m NN -> m (NN, Data)\n",
    "predDist pr = do\n",
    "  nn <- pr\n",
    "  x <- uniform 0 10\n",
    "  y <- uniform (-5) 10\n",
    "  score $ likelihood nn (Data x y)\n",
    "  return (nn, Data x y)"
   ]
  },
  {
   "cell_type": "markdown",
   "metadata": {},
   "source": [
    "Notice that we return the neural network parameters along with the actual data points for further examination here."
   ]
  },
  {
   "cell_type": "markdown",
   "metadata": {},
   "source": [
    "### Some Examples\n",
    "\n",
    "We can now infer a predictive distribution from observations.\n",
    "Let's see how our network deals with a line with slope `0.5` and intercept `-2`:"
   ]
  },
  {
   "cell_type": "code",
   "execution_count": 49,
   "metadata": {},
   "outputs": [],
   "source": [
    "nsamples = 200\n",
    "noise <- sampleIOfixed $ replicateM nsamples $ normal 0.0 0.5\n",
    "observations = [Data x (0.5 * x - 2 + n) | (x,n) <- zip [0, (10 / nsamples) ..] noise]"
   ]
  },
  {
   "cell_type": "markdown",
   "metadata": {},
   "source": [
    "We can sample from the posterior predictive distribution like this:"
   ]
  },
  {
   "cell_type": "code",
   "execution_count": 50,
   "metadata": {},
   "outputs": [
    {
     "data": {
      "text/plain": []
     },
     "metadata": {},
     "output_type": "display_data"
    }
   ],
   "source": [
    "nnodes = 3\n",
    "mkSampler = prior . mh 60000\n",
    "predicted <- sampleIOfixed $ mkSampler $ predDist $ postNN (priorNN nnodes) observations"
   ]
  },
  {
   "cell_type": "markdown",
   "metadata": {},
   "source": [
    "Which produces this distribution:"
   ]
  },
  {
   "cell_type": "code",
   "execution_count": 51,
   "metadata": {},
   "outputs": [
    {
     "data": {
      "application/vnd.vegalite.v2+json": {
       "$schema": "https://vega.github.io/schema/vega-lite/v3.json",
       "background": "#f9f9f9",
       "config": {
        "axis": {
         "domain": false,
         "grid": true,
         "gridColor": "#FFFFFF",
         "labelColor": "#7F7F7F",
         "labelPadding": 4,
         "tickColor": "#7F7F7F",
         "tickSize": 5.67
        }
       },
       "data": {
        "values": [
         {
          "xModel": 0.5,
          "xObs": 0,
          "yModel": -9.5,
          "yObs": -2.9816095292236926,
          "zModel": 0
         },
         {
          "xModel": 1.5,
          "xObs": 0.05,
          "yModel": -9.5,
          "yObs": -1.6519942162718895,
          "zModel": 0
         },
         {
          "xModel": 2.5,
          "xObs": 0.1,
          "yModel": -9.5,
          "yObs": -2.448538543811587,
          "zModel": 0
         },
         {
          "xModel": 3.5,
          "xObs": 0.15000000000000002,
          "yModel": -9.5,
          "yObs": -1.6695795498317372,
          "zModel": 0
         },
         {
          "xModel": 4.5,
          "xObs": 0.20000000000000004,
          "yModel": -9.5,
          "yObs": -2.2743042799922044,
          "zModel": 0
         },
         {
          "xModel": 5.5,
          "xObs": 0.25000000000000006,
          "yModel": -9.5,
          "yObs": -1.9380308622959224,
          "zModel": 0
         },
         {
          "xModel": 6.5,
          "xObs": 0.30000000000000004,
          "yModel": -9.5,
          "yObs": -1.82123379654651,
          "zModel": 0
         },
         {
          "xModel": 7.5,
          "xObs": 0.35000000000000003,
          "yModel": -9.5,
          "yObs": -2.408657698175621,
          "zModel": 0
         },
         {
          "xModel": 8.5,
          "xObs": 0.4,
          "yModel": -9.5,
          "yObs": -1.7666468187212192,
          "zModel": 0
         },
         {
          "xModel": 9.5,
          "xObs": 0.45,
          "yModel": -9.5,
          "yObs": -2.5683470842191976,
          "zModel": 0
         },
         {
          "xModel": 0.5,
          "xObs": 0.5,
          "yModel": -8.5,
          "yObs": -1.071742682255568,
          "zModel": 0
         },
         {
          "xModel": 1.5,
          "xObs": 0.55,
          "yModel": -8.5,
          "yObs": -1.3830956536945274,
          "zModel": 0
         },
         {
          "xModel": 2.5,
          "xObs": 0.6000000000000001,
          "yModel": -8.5,
          "yObs": -1.3284867198142076,
          "zModel": 0
         },
         {
          "xModel": 3.5,
          "xObs": 0.6500000000000001,
          "yModel": -8.5,
          "yObs": -2.0957087197419484,
          "zModel": 0
         },
         {
          "xModel": 4.5,
          "xObs": 0.7000000000000002,
          "yModel": -8.5,
          "yObs": -2.073345414102193,
          "zModel": 0
         },
         {
          "xModel": 5.5,
          "xObs": 0.7500000000000002,
          "yModel": -8.5,
          "yObs": -1.082047130756696,
          "zModel": 0
         },
         {
          "xModel": 6.5,
          "xObs": 0.8000000000000003,
          "yModel": -8.5,
          "yObs": -1.41986349431992,
          "zModel": 0
         },
         {
          "xModel": 7.5,
          "xObs": 0.8500000000000003,
          "yModel": -8.5,
          "yObs": -1.552305425491733,
          "zModel": 0
         },
         {
          "xModel": 8.5,
          "xObs": 0.9000000000000004,
          "yModel": -8.5,
          "yObs": -1.3228509758938976,
          "zModel": 0
         },
         {
          "xModel": 9.5,
          "xObs": 0.9500000000000004,
          "yModel": -8.5,
          "yObs": -0.9420022261313775,
          "zModel": 0
         },
         {
          "xModel": 0.5,
          "xObs": 1.0000000000000004,
          "yModel": -7.5,
          "yObs": -0.9390989785052781,
          "zModel": 0
         },
         {
          "xModel": 1.5,
          "xObs": 1.0500000000000005,
          "yModel": -7.5,
          "yObs": -1.7818589662876878,
          "zModel": 0
         },
         {
          "xModel": 2.5,
          "xObs": 1.1000000000000005,
          "yModel": -7.5,
          "yObs": -2.179432746257862,
          "zModel": 0
         },
         {
          "xModel": 3.5,
          "xObs": 1.1500000000000006,
          "yModel": -7.5,
          "yObs": -1.768893021185173,
          "zModel": 0
         },
         {
          "xModel": 4.5,
          "xObs": 1.2000000000000006,
          "yModel": -7.5,
          "yObs": -1.1717848915548787,
          "zModel": 0
         },
         {
          "xModel": 5.5,
          "xObs": 1.2500000000000007,
          "yModel": -7.5,
          "yObs": -2.0878035883662442,
          "zModel": 0
         },
         {
          "xModel": 6.5,
          "xObs": 1.3000000000000007,
          "yModel": -7.5,
          "yObs": -0.9663921924625803,
          "zModel": 0
         },
         {
          "xModel": 7.5,
          "xObs": 1.3500000000000008,
          "yModel": -7.5,
          "yObs": -1.6353792665364366,
          "zModel": 0
         },
         {
          "xModel": 8.5,
          "xObs": 1.4000000000000008,
          "yModel": -7.5,
          "yObs": -0.9857392375664913,
          "zModel": 0
         },
         {
          "xModel": 9.5,
          "xObs": 1.4500000000000008,
          "yModel": -7.5,
          "yObs": -2.3944174585057487,
          "zModel": 0
         },
         {
          "xModel": 0.5,
          "xObs": 1.5000000000000009,
          "yModel": -6.5,
          "yObs": -1.226763133335394,
          "zModel": 0
         },
         {
          "xModel": 1.5,
          "xObs": 1.550000000000001,
          "yModel": -6.5,
          "yObs": -1.056648870872514,
          "zModel": 0
         },
         {
          "xModel": 2.5,
          "xObs": 1.600000000000001,
          "yModel": -6.5,
          "yObs": -2.5451178883451675,
          "zModel": 0
         },
         {
          "xModel": 3.5,
          "xObs": 1.650000000000001,
          "yModel": -6.5,
          "yObs": -0.6447619271931772,
          "zModel": 0
         },
         {
          "xModel": 4.5,
          "xObs": 1.700000000000001,
          "yModel": -6.5,
          "yObs": -0.8646584170142733,
          "zModel": 0
         },
         {
          "xModel": 5.5,
          "xObs": 1.750000000000001,
          "yModel": -6.5,
          "yObs": -0.9770175984369043,
          "zModel": 0
         },
         {
          "xModel": 6.5,
          "xObs": 1.8000000000000012,
          "yModel": -6.5,
          "yObs": -1.5322334397394328,
          "zModel": 0
         },
         {
          "xModel": 7.5,
          "xObs": 1.8500000000000012,
          "yModel": -6.5,
          "yObs": -0.32181462364207813,
          "zModel": 0
         },
         {
          "xModel": 8.5,
          "xObs": 1.9000000000000012,
          "yModel": -6.5,
          "yObs": -0.9630817308654911,
          "zModel": 0
         },
         {
          "xModel": 9.5,
          "xObs": 1.9500000000000013,
          "yModel": -6.5,
          "yObs": -0.9557450784937347,
          "zModel": 0
         },
         {
          "xModel": 0.5,
          "xObs": 2.0000000000000013,
          "yModel": -5.5,
          "yObs": -0.32338198917650196,
          "zModel": 0
         },
         {
          "xModel": 1.5,
          "xObs": 2.0500000000000016,
          "yModel": -5.5,
          "yObs": -0.9888893130923171,
          "zModel": 0
         },
         {
          "xModel": 2.5,
          "xObs": 2.100000000000002,
          "yModel": -5.5,
          "yObs": -0.5712263789722722,
          "zModel": 0
         },
         {
          "xModel": 3.5,
          "xObs": 2.150000000000002,
          "yModel": -5.5,
          "yObs": -1.0254907321441877,
          "zModel": 0
         },
         {
          "xModel": 4.5,
          "xObs": 2.2000000000000024,
          "yModel": -5.5,
          "yObs": -0.7842698894365967,
          "zModel": 0
         },
         {
          "xModel": 5.5,
          "xObs": 2.2500000000000027,
          "yModel": -5.5,
          "yObs": -1.9956819460145625,
          "zModel": 0
         },
         {
          "xModel": 6.5,
          "xObs": 2.300000000000003,
          "yModel": -5.5,
          "yObs": -2.153272209340283,
          "zModel": 0
         },
         {
          "xModel": 7.5,
          "xObs": 2.350000000000003,
          "yModel": -5.5,
          "yObs": -0.7918640751841727,
          "zModel": 0
         },
         {
          "xModel": 8.5,
          "xObs": 2.4000000000000035,
          "yModel": -5.5,
          "yObs": -0.4598958201868057,
          "zModel": 0
         },
         {
          "xModel": 9.5,
          "xObs": 2.4500000000000037,
          "yModel": -5.5,
          "yObs": -0.8265193307636534,
          "zModel": 0
         },
         {
          "xModel": 0.5,
          "xObs": 2.500000000000004,
          "yModel": -4.5,
          "yObs": -1.832091632455105,
          "zModel": 246
         },
         {
          "xModel": 1.5,
          "xObs": 2.5500000000000043,
          "yModel": -4.5,
          "yObs": -0.9145853293760939,
          "zModel": 238
         },
         {
          "xModel": 2.5,
          "xObs": 2.6000000000000045,
          "yModel": -4.5,
          "yObs": -0.8918954708775287,
          "zModel": 222
         },
         {
          "xModel": 3.5,
          "xObs": 2.650000000000005,
          "yModel": -4.5,
          "yObs": -1.0868470196390128,
          "zModel": 56
         },
         {
          "xModel": 4.5,
          "xObs": 2.700000000000005,
          "yModel": -4.5,
          "yObs": -0.7715982986806532,
          "zModel": 0
         },
         {
          "xModel": 5.5,
          "xObs": 2.7500000000000053,
          "yModel": -4.5,
          "yObs": -1.1511660700107682,
          "zModel": 0
         },
         {
          "xModel": 6.5,
          "xObs": 2.8000000000000056,
          "yModel": -4.5,
          "yObs": 0.06862160966792741,
          "zModel": 0
         },
         {
          "xModel": 7.5,
          "xObs": 2.850000000000006,
          "yModel": -4.5,
          "yObs": -0.7850267340295174,
          "zModel": 0
         },
         {
          "xModel": 8.5,
          "xObs": 2.900000000000006,
          "yModel": -4.5,
          "yObs": -0.5054433306407031,
          "zModel": 0
         },
         {
          "xModel": 9.5,
          "xObs": 2.9500000000000064,
          "yModel": -4.5,
          "yObs": -0.9244568056733391,
          "zModel": 0
         },
         {
          "xModel": 0.5,
          "xObs": 3.0000000000000067,
          "yModel": -3.5,
          "yObs": -0.34566926253925745,
          "zModel": 687
         },
         {
          "xModel": 1.5,
          "xObs": 3.050000000000007,
          "yModel": -3.5,
          "yObs": -0.715130191225761,
          "zModel": 903
         },
         {
          "xModel": 2.5,
          "xObs": 3.100000000000007,
          "yModel": -3.5,
          "yObs": -0.11131523838397545,
          "zModel": 404
         },
         {
          "xModel": 3.5,
          "xObs": 3.1500000000000075,
          "yModel": -3.5,
          "yObs": -0.4041114082030033,
          "zModel": 259
         },
         {
          "xModel": 4.5,
          "xObs": 3.2000000000000077,
          "yModel": -3.5,
          "yObs": -0.25372435514040054,
          "zModel": 79
         },
         {
          "xModel": 5.5,
          "xObs": 3.250000000000008,
          "yModel": -3.5,
          "yObs": -0.18962827290014755,
          "zModel": 63
         },
         {
          "xModel": 6.5,
          "xObs": 3.3000000000000083,
          "yModel": -3.5,
          "yObs": -0.6756060610140221,
          "zModel": 19
         },
         {
          "xModel": 7.5,
          "xObs": 3.3500000000000085,
          "yModel": -3.5,
          "yObs": -1.0348077000043117,
          "zModel": 25
         },
         {
          "xModel": 8.5,
          "xObs": 3.400000000000009,
          "yModel": -3.5,
          "yObs": -0.28690197198674783,
          "zModel": 0
         },
         {
          "xModel": 9.5,
          "xObs": 3.450000000000009,
          "yModel": -3.5,
          "yObs": -0.5897022691511086,
          "zModel": 8
         },
         {
          "xModel": 0.5,
          "xObs": 3.5000000000000093,
          "yModel": -2.5,
          "yObs": -0.12638805603197772,
          "zModel": 1109
         },
         {
          "xModel": 1.5,
          "xObs": 3.5500000000000096,
          "yModel": -2.5,
          "yObs": 0.12291958416972393,
          "zModel": 1031
         },
         {
          "xModel": 2.5,
          "xObs": 3.60000000000001,
          "yModel": -2.5,
          "yObs": -0.9474686254185933,
          "zModel": 765
         },
         {
          "xModel": 3.5,
          "xObs": 3.65000000000001,
          "yModel": -2.5,
          "yObs": 0.08699523648643148,
          "zModel": 811
         },
         {
          "xModel": 4.5,
          "xObs": 3.7000000000000104,
          "yModel": -2.5,
          "yObs": 0.5278787782801646,
          "zModel": 618
         },
         {
          "xModel": 5.5,
          "xObs": 3.7500000000000107,
          "yModel": -2.5,
          "yObs": -0.024537007117136966,
          "zModel": 437
         },
         {
          "xModel": 6.5,
          "xObs": 3.800000000000011,
          "yModel": -2.5,
          "yObs": -0.06767186140776085,
          "zModel": 100
         },
         {
          "xModel": 7.5,
          "xObs": 3.850000000000011,
          "yModel": -2.5,
          "yObs": 0.3248182228000804,
          "zModel": 35
         },
         {
          "xModel": 8.5,
          "xObs": 3.9000000000000115,
          "yModel": -2.5,
          "yObs": 0.2248029644207607,
          "zModel": 2
         },
         {
          "xModel": 9.5,
          "xObs": 3.9500000000000117,
          "yModel": -2.5,
          "yObs": 0.3879072156942092,
          "zModel": 8
         },
         {
          "xModel": 0.5,
          "xObs": 4.000000000000012,
          "yModel": -1.5,
          "yObs": 0.015217666391831818,
          "zModel": 1131
         },
         {
          "xModel": 1.5,
          "xObs": 4.050000000000013,
          "yModel": -1.5,
          "yObs": 0.04853693358724176,
          "zModel": 1046
         },
         {
          "xModel": 2.5,
          "xObs": 4.100000000000014,
          "yModel": -1.5,
          "yObs": -0.15363744369345736,
          "zModel": 810
         },
         {
          "xModel": 3.5,
          "xObs": 4.150000000000015,
          "yModel": -1.5,
          "yObs": 0.0886993557080942,
          "zModel": 888
         },
         {
          "xModel": 4.5,
          "xObs": 4.200000000000015,
          "yModel": -1.5,
          "yObs": 0.19336502732585248,
          "zModel": 900
         },
         {
          "xModel": 5.5,
          "xObs": 4.250000000000016,
          "yModel": -1.5,
          "yObs": -0.09098453895072028,
          "zModel": 812
         },
         {
          "xModel": 6.5,
          "xObs": 4.300000000000017,
          "yModel": -1.5,
          "yObs": 0.6561656901071841,
          "zModel": 259
         },
         {
          "xModel": 7.5,
          "xObs": 4.350000000000017,
          "yModel": -1.5,
          "yObs": -0.00011629069610502585,
          "zModel": 264
         },
         {
          "xModel": 8.5,
          "xObs": 4.400000000000018,
          "yModel": -1.5,
          "yObs": 0.13057739405426352,
          "zModel": 103
         },
         {
          "xModel": 9.5,
          "xObs": 4.450000000000019,
          "yModel": -1.5,
          "yObs": -0.6365267999445686,
          "zModel": 57
         },
         {
          "xModel": 0.5,
          "xObs": 4.5000000000000195,
          "yModel": -0.5,
          "yObs": 0.187133393235434,
          "zModel": 1155
         },
         {
          "xModel": 1.5,
          "xObs": 4.55000000000002,
          "yModel": -0.5,
          "yObs": -0.40675920608550753,
          "zModel": 953
         },
         {
          "xModel": 2.5,
          "xObs": 4.600000000000021,
          "yModel": -0.5,
          "yObs": 0.4783397785997723,
          "zModel": 1076
         },
         {
          "xModel": 3.5,
          "xObs": 4.650000000000022,
          "yModel": -0.5,
          "yObs": -0.2954499445748894,
          "zModel": 1399
         },
         {
          "xModel": 4.5,
          "xObs": 4.700000000000022,
          "yModel": -0.5,
          "yObs": -0.6461746645379146,
          "zModel": 1228
         },
         {
          "xModel": 5.5,
          "xObs": 4.750000000000023,
          "yModel": -0.5,
          "yObs": 1.0181624136724903,
          "zModel": 1200
         },
         {
          "xModel": 6.5,
          "xObs": 4.800000000000024,
          "yModel": -0.5,
          "yObs": 0.5925715306619712,
          "zModel": 866
         },
         {
          "xModel": 7.5,
          "xObs": 4.8500000000000245,
          "yModel": -0.5,
          "yObs": 0.18681500906640794,
          "zModel": 818
         },
         {
          "xModel": 8.5,
          "xObs": 4.900000000000025,
          "yModel": -0.5,
          "yObs": 0.39883301793180365,
          "zModel": 594
         },
         {
          "xModel": 9.5,
          "xObs": 4.950000000000026,
          "yModel": -0.5,
          "yObs": 0.5970229121261517,
          "zModel": 383
         },
         {
          "xModel": 0.5,
          "xObs": 5.000000000000027,
          "yModel": 0.5,
          "yObs": 0.5847842046726959,
          "zModel": 931
         },
         {
          "xModel": 1.5,
          "xObs": 5.050000000000027,
          "yModel": 0.5,
          "yObs": 0.8240543117051053,
          "zModel": 975
         },
         {
          "xModel": 2.5,
          "xObs": 5.100000000000028,
          "yModel": 0.5,
          "yObs": 0.20402438028926784,
          "zModel": 843
         },
         {
          "xModel": 3.5,
          "xObs": 5.150000000000029,
          "yModel": 0.5,
          "yObs": 0.3369202165331586,
          "zModel": 1300
         },
         {
          "xModel": 4.5,
          "xObs": 5.2000000000000295,
          "yModel": 0.5,
          "yObs": 0.5938598674098299,
          "zModel": 1203
         },
         {
          "xModel": 5.5,
          "xObs": 5.25000000000003,
          "yModel": 0.5,
          "yObs": 1.0996133674923323,
          "zModel": 1425
         },
         {
          "xModel": 6.5,
          "xObs": 5.300000000000031,
          "yModel": 0.5,
          "yObs": 0.5844605971106462,
          "zModel": 1356
         },
         {
          "xModel": 7.5,
          "xObs": 5.350000000000032,
          "yModel": 0.5,
          "yObs": 1.5330151641454302,
          "zModel": 1052
         },
         {
          "xModel": 8.5,
          "xObs": 5.400000000000032,
          "yModel": 0.5,
          "yObs": 0.9150089559123854,
          "zModel": 821
         },
         {
          "xModel": 9.5,
          "xObs": 5.450000000000033,
          "yModel": 0.5,
          "yObs": 1.3283226389034164,
          "zModel": 966
         },
         {
          "xModel": 0.5,
          "xObs": 5.500000000000034,
          "yModel": 1.5,
          "yObs": 0.1017226943858135,
          "zModel": 682
         },
         {
          "xModel": 1.5,
          "xObs": 5.5500000000000345,
          "yModel": 1.5,
          "yObs": 0.7579416909729401,
          "zModel": 448
         },
         {
          "xModel": 2.5,
          "xObs": 5.600000000000035,
          "yModel": 1.5,
          "yObs": 0.4045163694291272,
          "zModel": 557
         },
         {
          "xModel": 3.5,
          "xObs": 5.650000000000036,
          "yModel": 1.5,
          "yObs": 0.8991232227961283,
          "zModel": 1068
         },
         {
          "xModel": 4.5,
          "xObs": 5.700000000000037,
          "yModel": 1.5,
          "yObs": 0.9310012094727935,
          "zModel": 1261
         },
         {
          "xModel": 5.5,
          "xObs": 5.750000000000037,
          "yModel": 1.5,
          "yObs": 0.6991904095326439,
          "zModel": 1336
         },
         {
          "xModel": 6.5,
          "xObs": 5.800000000000038,
          "yModel": 1.5,
          "yObs": 0.7165240290752193,
          "zModel": 1231
         },
         {
          "xModel": 7.5,
          "xObs": 5.850000000000039,
          "yModel": 1.5,
          "yObs": 0.7921072602666493,
          "zModel": 1142
         },
         {
          "xModel": 8.5,
          "xObs": 5.900000000000039,
          "yModel": 1.5,
          "yObs": 0.8138248309577725,
          "zModel": 1279
         },
         {
          "xModel": 9.5,
          "xObs": 5.95000000000004,
          "yModel": 1.5,
          "yObs": 1.2526748666831198,
          "zModel": 1121
         },
         {
          "xModel": 0.5,
          "xObs": 6.000000000000041,
          "yModel": 2.5,
          "yObs": 1.2493499977648597,
          "zModel": 109
         },
         {
          "xModel": 1.5,
          "xObs": 6.050000000000042,
          "yModel": 2.5,
          "yObs": 1.1118551432737325,
          "zModel": 110
         },
         {
          "xModel": 2.5,
          "xObs": 6.100000000000042,
          "yModel": 2.5,
          "yObs": 1.0388204522272895,
          "zModel": 41
         },
         {
          "xModel": 3.5,
          "xObs": 6.150000000000043,
          "yModel": 2.5,
          "yObs": 0.7616616666066837,
          "zModel": 576
         },
         {
          "xModel": 4.5,
          "xObs": 6.200000000000044,
          "yModel": 2.5,
          "yObs": 1.1961419630040413,
          "zModel": 884
         },
         {
          "xModel": 5.5,
          "xObs": 6.250000000000044,
          "yModel": 2.5,
          "yObs": 0.978086112169478,
          "zModel": 1100
         },
         {
          "xModel": 6.5,
          "xObs": 6.300000000000045,
          "yModel": 2.5,
          "yObs": 1.0359630318128845,
          "zModel": 846
         },
         {
          "xModel": 7.5,
          "xObs": 6.350000000000046,
          "yModel": 2.5,
          "yObs": 1.8239238187597966,
          "zModel": 969
         },
         {
          "xModel": 8.5,
          "xObs": 6.4000000000000465,
          "yModel": 2.5,
          "yObs": 0.9212704177822619,
          "zModel": 1180
         },
         {
          "xModel": 9.5,
          "xObs": 6.450000000000047,
          "yModel": 2.5,
          "yObs": 0.7798861769864356,
          "zModel": 1208
         },
         {
          "xModel": 0.5,
          "xObs": 6.500000000000048,
          "yModel": 3.5,
          "yObs": 1.959935486625725,
          "zModel": 0
         },
         {
          "xModel": 1.5,
          "xObs": 6.550000000000049,
          "yModel": 3.5,
          "yObs": 1.717224561668203,
          "zModel": 7
         },
         {
          "xModel": 2.5,
          "xObs": 6.600000000000049,
          "yModel": 3.5,
          "yObs": 1.3820181413262942,
          "zModel": 22
         },
         {
          "xModel": 3.5,
          "xObs": 6.65000000000005,
          "yModel": 3.5,
          "yObs": 1.4081217507671429,
          "zModel": 132
         },
         {
          "xModel": 4.5,
          "xObs": 6.700000000000051,
          "yModel": 3.5,
          "yObs": 1.4734203816447518,
          "zModel": 345
         },
         {
          "xModel": 5.5,
          "xObs": 6.7500000000000515,
          "yModel": 3.5,
          "yObs": 1.4048441523228798,
          "zModel": 339
         },
         {
          "xModel": 6.5,
          "xObs": 6.800000000000052,
          "yModel": 3.5,
          "yObs": 2.092458388414628,
          "zModel": 687
         },
         {
          "xModel": 7.5,
          "xObs": 6.850000000000053,
          "yModel": 3.5,
          "yObs": 0.6158703392573526,
          "zModel": 828
         },
         {
          "xModel": 8.5,
          "xObs": 6.900000000000054,
          "yModel": 3.5,
          "yObs": 2.2667554672570462,
          "zModel": 1199
         },
         {
          "xModel": 9.5,
          "xObs": 6.950000000000054,
          "yModel": 3.5,
          "yObs": 1.228020517794216,
          "zModel": 1052
         },
         {
          "xModel": 0.5,
          "xObs": 7.000000000000055,
          "yModel": 4.5,
          "yObs": 2.4107134685709406,
          "zModel": 0
         },
         {
          "xModel": 1.5,
          "xObs": 7.050000000000056,
          "yModel": 4.5,
          "yObs": 1.6318818192279585,
          "zModel": 0
         },
         {
          "xModel": 2.5,
          "xObs": 7.1000000000000565,
          "yModel": 4.5,
          "yObs": 1.222247158534877,
          "zModel": 0
         },
         {
          "xModel": 3.5,
          "xObs": 7.150000000000057,
          "yModel": 4.5,
          "yObs": 1.025501325871137,
          "zModel": 21
         },
         {
          "xModel": 4.5,
          "xObs": 7.200000000000058,
          "yModel": 4.5,
          "yObs": 1.7756072643373357,
          "zModel": 107
         },
         {
          "xModel": 5.5,
          "xObs": 7.250000000000059,
          "yModel": 4.5,
          "yObs": 1.6497461029453566,
          "zModel": 136
         },
         {
          "xModel": 6.5,
          "xObs": 7.300000000000059,
          "yModel": 4.5,
          "yObs": 0.8682732760241065,
          "zModel": 514
         },
         {
          "xModel": 7.5,
          "xObs": 7.35000000000006,
          "yModel": 4.5,
          "yObs": 1.5297528426068578,
          "zModel": 498
         },
         {
          "xModel": 8.5,
          "xObs": 7.400000000000061,
          "yModel": 4.5,
          "yObs": 1.7702857789943194,
          "zModel": 560
         },
         {
          "xModel": 9.5,
          "xObs": 7.4500000000000615,
          "yModel": 4.5,
          "yObs": 1.4900769331373303,
          "zModel": 457
         },
         {
          "xModel": 0.5,
          "xObs": 7.500000000000062,
          "yModel": 5.5,
          "yObs": 0.7378124122514016,
          "zModel": 0
         },
         {
          "xModel": 1.5,
          "xObs": 7.550000000000063,
          "yModel": 5.5,
          "yObs": 1.768020630464278,
          "zModel": 0
         },
         {
          "xModel": 2.5,
          "xObs": 7.600000000000064,
          "yModel": 5.5,
          "yObs": 1.9183920729521469,
          "zModel": 0
         },
         {
          "xModel": 3.5,
          "xObs": 7.650000000000064,
          "yModel": 5.5,
          "yObs": 1.826295186867723,
          "zModel": 0
         },
         {
          "xModel": 4.5,
          "xObs": 7.700000000000065,
          "yModel": 5.5,
          "yObs": 1.170517691201952,
          "zModel": 0
         },
         {
          "xModel": 5.5,
          "xObs": 7.750000000000066,
          "yModel": 5.5,
          "yObs": 1.853174144217901,
          "zModel": 28
         },
         {
          "xModel": 6.5,
          "xObs": 7.800000000000066,
          "yModel": 5.5,
          "yObs": 0.8236357715286438,
          "zModel": 96
         },
         {
          "xModel": 7.5,
          "xObs": 7.850000000000067,
          "yModel": 5.5,
          "yObs": 2.0513926167084247,
          "zModel": 195
         },
         {
          "xModel": 8.5,
          "xObs": 7.900000000000068,
          "yModel": 5.5,
          "yObs": 1.8443990696559442,
          "zModel": 294
         },
         {
          "xModel": 9.5,
          "xObs": 7.950000000000069,
          "yModel": 5.5,
          "yObs": 2.2992538447146167,
          "zModel": 337
         },
         {
          "xModel": 0.5,
          "xObs": 8.00000000000007,
          "yModel": 6.5,
          "yObs": 2.393363526278184,
          "zModel": 0
         },
         {
          "xModel": 1.5,
          "xObs": 8.05000000000007,
          "yModel": 6.5,
          "yObs": 2.2701719880739977,
          "zModel": 0
         },
         {
          "xModel": 2.5,
          "xObs": 8.10000000000007,
          "yModel": 6.5,
          "yObs": 2.037330171696661,
          "zModel": 0
         },
         {
          "xModel": 3.5,
          "xObs": 8.150000000000071,
          "yModel": 6.5,
          "yObs": 2.1707496397051345,
          "zModel": 0
         },
         {
          "xModel": 4.5,
          "xObs": 8.200000000000072,
          "yModel": 6.5,
          "yObs": 1.9138580618695207,
          "zModel": 0
         },
         {
          "xModel": 5.5,
          "xObs": 8.250000000000073,
          "yModel": 6.5,
          "yObs": 2.7438202152894196,
          "zModel": 0
         },
         {
          "xModel": 6.5,
          "xObs": 8.300000000000074,
          "yModel": 6.5,
          "yObs": 2.2706024888019596,
          "zModel": 19
         },
         {
          "xModel": 7.5,
          "xObs": 8.350000000000074,
          "yModel": 6.5,
          "yObs": 2.0994213493038565,
          "zModel": 6
         },
         {
          "xModel": 8.5,
          "xObs": 8.400000000000075,
          "yModel": 6.5,
          "yObs": 2.2244893949902056,
          "zModel": 13
         },
         {
          "xModel": 9.5,
          "xObs": 8.450000000000076,
          "yModel": 6.5,
          "yObs": 2.2755300411419594,
          "zModel": 22
         },
         {
          "xModel": 0.5,
          "xObs": 8.500000000000076,
          "yModel": 7.5,
          "yObs": 2.3845391641464233,
          "zModel": 0
         },
         {
          "xModel": 1.5,
          "xObs": 8.550000000000077,
          "yModel": 7.5,
          "yObs": 2.2658568353560162,
          "zModel": 0
         },
         {
          "xModel": 2.5,
          "xObs": 8.600000000000078,
          "yModel": 7.5,
          "yObs": 2.409543428152658,
          "zModel": 0
         },
         {
          "xModel": 3.5,
          "xObs": 8.650000000000079,
          "yModel": 7.5,
          "yObs": 1.7192971402010664,
          "zModel": 0
         },
         {
          "xModel": 4.5,
          "xObs": 8.70000000000008,
          "yModel": 7.5,
          "yObs": 2.7909311841474373,
          "zModel": 0
         },
         {
          "xModel": 5.5,
          "xObs": 8.75000000000008,
          "yModel": 7.5,
          "yObs": 2.014836078003054,
          "zModel": 0
         },
         {
          "xModel": 6.5,
          "xObs": 8.80000000000008,
          "yModel": 7.5,
          "yObs": 1.9394594666346012,
          "zModel": 0
         },
         {
          "xModel": 7.5,
          "xObs": 8.850000000000081,
          "yModel": 7.5,
          "yObs": 1.8956770375822645,
          "zModel": 0
         },
         {
          "xModel": 8.5,
          "xObs": 8.900000000000082,
          "yModel": 7.5,
          "yObs": 1.531628108198792,
          "zModel": 0
         },
         {
          "xModel": 9.5,
          "xObs": 8.950000000000083,
          "yModel": 7.5,
          "yObs": 3.783668773825085,
          "zModel": 0
         },
         {
          "xModel": 0.5,
          "xObs": 9.000000000000083,
          "yModel": 8.5,
          "yObs": 2.487083796652309,
          "zModel": 0
         },
         {
          "xModel": 1.5,
          "xObs": 9.050000000000084,
          "yModel": 8.5,
          "yObs": 3.003968094429875,
          "zModel": 0
         },
         {
          "xModel": 2.5,
          "xObs": 9.100000000000085,
          "yModel": 8.5,
          "yObs": 2.2155931934556423,
          "zModel": 0
         },
         {
          "xModel": 3.5,
          "xObs": 9.150000000000086,
          "yModel": 8.5,
          "yObs": 2.092965706765497,
          "zModel": 0
         },
         {
          "xModel": 4.5,
          "xObs": 9.200000000000086,
          "yModel": 8.5,
          "yObs": 3.219089211066153,
          "zModel": 0
         },
         {
          "xModel": 5.5,
          "xObs": 9.250000000000087,
          "yModel": 8.5,
          "yObs": 2.5836501386847344,
          "zModel": 0
         },
         {
          "xModel": 6.5,
          "xObs": 9.300000000000088,
          "yModel": 8.5,
          "yObs": 2.621559365274124,
          "zModel": 0
         },
         {
          "xModel": 7.5,
          "xObs": 9.350000000000088,
          "yModel": 8.5,
          "yObs": 2.2123404510491347,
          "zModel": 0
         },
         {
          "xModel": 8.5,
          "xObs": 9.40000000000009,
          "yModel": 8.5,
          "yObs": 2.8959119040464736,
          "zModel": 0
         },
         {
          "xModel": 9.5,
          "xObs": 9.45000000000009,
          "yModel": 8.5,
          "yObs": 2.7594978676733044,
          "zModel": 0
         },
         {
          "xModel": 0.5,
          "xObs": 9.50000000000009,
          "yModel": 9.5,
          "yObs": 3.1667766708627596,
          "zModel": 0
         },
         {
          "xModel": 1.5,
          "xObs": 9.550000000000091,
          "yModel": 9.5,
          "yObs": 2.7196154559330883,
          "zModel": 0
         },
         {
          "xModel": 2.5,
          "xObs": 9.600000000000092,
          "yModel": 9.5,
          "yObs": 3.1546935953384887,
          "zModel": 0
         },
         {
          "xModel": 3.5,
          "xObs": 9.650000000000093,
          "yModel": 9.5,
          "yObs": 3.1334813956760623,
          "zModel": 0
         },
         {
          "xModel": 4.5,
          "xObs": 9.700000000000093,
          "yModel": 9.5,
          "yObs": 3.084256685044135,
          "zModel": 0
         },
         {
          "xModel": 5.5,
          "xObs": 9.750000000000094,
          "yModel": 9.5,
          "yObs": 1.6790949939989475,
          "zModel": 0
         },
         {
          "xModel": 6.5,
          "xObs": 9.800000000000095,
          "yModel": 9.5,
          "yObs": 2.5991768738057255,
          "zModel": 0
         },
         {
          "xModel": 7.5,
          "xObs": 9.850000000000096,
          "yModel": 9.5,
          "yObs": 3.1501636584698334,
          "zModel": 0
         },
         {
          "xModel": 8.5,
          "xObs": 9.900000000000096,
          "yModel": 9.5,
          "yObs": 3.910812553604263,
          "zModel": 0
         },
         {
          "xModel": 9.5,
          "xObs": 9.950000000000097,
          "yModel": 9.5,
          "yObs": 3.2178057931809367,
          "zModel": 0
         }
        ]
       },
       "description": "Plot",
       "height": 300,
       "layer": [
        {
         "encoding": {
          "fill": {
           "field": "zModel",
           "scale": {
            "scheme": {
             "extent": [
              0,
              1
             ],
             "name": "blues"
            }
           },
           "type": "quantitative"
          },
          "stroke": {
           "field": "zModel",
           "legend": {
            "type": "gradient"
           },
           "scale": {
            "scheme": {
             "extent": [
              0,
              1
             ],
             "name": "blues"
            }
           },
           "type": "quantitative"
          },
          "x": {
           "axis": {
            "gridOpacity": 0.1
           },
           "field": "xModel",
           "type": "nominal"
          },
          "y": {
           "axis": {
            "gridOpacity": 0.1
           },
           "field": "yModel",
           "sort": "descending",
           "type": "nominal"
          }
         },
         "mark": "rect"
        },
        {
         "encoding": {
          "x": {
           "field": "xObs",
           "scale": {
            "domain": [
             0,
             10
            ]
           },
           "type": "quantitative"
          },
          "y": {
           "field": "yObs",
           "scale": {
            "domain": [
             -10,
             10
            ]
           },
           "type": "quantitative"
          }
         },
         "mark": {
          "color": "blue",
          "type": "circle"
         }
        }
       ],
       "width": 600
      },
      "image/png": "[encoded data removed]"
     },
     "metadata": {},
     "output_type": "display_data"
    }
   ],
   "source": [
    "hist = histo2D (0, 10, 10) (-10, 20, 10) ((\\(nn, d)-> (xValue d, yValue d)) <$> predicted)\n",
    "cents = Vec.toList $ DH.binsCenters $ DH.bins hist\n",
    "val = Vec.toList $ DH.histData hist\n",
    "vlShow $\n",
    "  plot\n",
    "    (600, 300)\n",
    "    (L [imagePlot \"xModel\" \"yModel\" \"zModel\",\n",
    "        scatterBlue \"xObs\" \"yObs\" (0, 10) (-10, 10)])\n",
    "    ( Cols\n",
    "        [ (\"xModel\", VL.Numbers (fst <$> cents)),\n",
    "          (\"yModel\", VL.Numbers (snd <$> cents)),\n",
    "          (\"zModel\", VL.Numbers val),\n",
    "          (\"xObs\", VL.Numbers (xValue <$> observations)),\n",
    "          (\"yObs\", VL.Numbers (yValue <$> observations))\n",
    "        ]\n",
    "    )"
   ]
  },
  {
   "cell_type": "markdown",
   "metadata": {},
   "source": [
    "The posterior predictive distribution, shown with a blue histogram, neatly follows the provided blue scatter points.\n",
    "We have thus successfully fitted a line with a neural network using Bayesian inference!\n",
    "But, where are the shifted and scaled steps that we saw so neatly before?\n",
    "And why is the predictive distribution more widely spread than the data distribution?\n",
    "Before we answer these questions, lets look at a more telling example, a sinus:"
   ]
  },
  {
   "cell_type": "code",
   "execution_count": 52,
   "metadata": {},
   "outputs": [
    {
     "data": {
      "application/vnd.vegalite.v2+json": {
       "$schema": "https://vega.github.io/schema/vega-lite/v3.json",
       "background": "#f9f9f9",
       "config": {
        "axis": {
         "domain": false,
         "grid": true,
         "gridColor": "#FFFFFF",
         "labelColor": "#7F7F7F",
         "labelPadding": 4,
         "tickColor": "#7F7F7F",
         "tickSize": 5.67
        }
       },
       "data": {
        "values": [
         {
          "xModel": 0.5,
          "xObs": 0,
          "yModel": -9.5,
          "yObs": 0.01839047077630729,
          "zModel": 0
         },
         {
          "xModel": 1.5,
          "xObs": 0.05,
          "yModel": -9.5,
          "yObs": 1.4229641222694673,
          "zModel": 0
         },
         {
          "xModel": 2.5,
          "xObs": 0.1,
          "yModel": -9.5,
          "yObs": 0.7011282894820693,
          "zModel": 0
         },
         {
          "xModel": 3.5,
          "xObs": 0.15000000000000002,
          "yModel": -9.5,
          "yObs": 1.5542967151154614,
          "zModel": 0
         },
         {
          "xModel": 4.5,
          "xObs": 0.20000000000000004,
          "yModel": -9.5,
          "yObs": 1.0230343815979177,
          "zModel": 0
         },
         {
          "xModel": 5.5,
          "xObs": 0.25000000000000006,
          "yModel": -9.5,
          "yObs": 1.4317770562131236,
          "zModel": 0
         },
         {
          "xModel": 6.5,
          "xObs": 0.30000000000000004,
          "yModel": -9.5,
          "yObs": 1.6198066167761693,
          "zModel": 0
         },
         {
          "xModel": 7.5,
          "xObs": 0.35000000000000003,
          "yModel": -9.5,
          "yObs": 1.1021379167352816,
          "zModel": 0
         },
         {
          "xModel": 8.5,
          "xObs": 0.4,
          "yModel": -9.5,
          "yObs": 1.812189865896082,
          "zModel": 0
         },
         {
          "xModel": 9.5,
          "xObs": 0.45,
          "yModel": -9.5,
          "yObs": 1.0765839840032627,
          "zModel": 0
         },
         {
          "xModel": 0.5,
          "xObs": 0.5,
          "yModel": -8.5,
          "yObs": 2.637108394952838,
          "zModel": 0
         },
         {
          "xModel": 1.5,
          "xObs": 0.55,
          "yModel": -8.5,
          "yObs": 2.387278804166791,
          "zModel": 0
         },
         {
          "xModel": 2.5,
          "xObs": 0.6000000000000001,
          "yModel": -8.5,
          "yObs": 2.5007982269758635,
          "zModel": 0
         },
         {
          "xModel": 3.5,
          "xObs": 0.6500000000000001,
          "yModel": -8.5,
          "yObs": 1.7896640917301307,
          "zModel": 0
         },
         {
          "xModel": 4.5,
          "xObs": 0.7000000000000002,
          "yModel": -8.5,
          "yObs": 1.8650899603731894,
          "zModel": 0
         },
         {
          "xModel": 5.5,
          "xObs": 0.7500000000000002,
          "yModel": -8.5,
          "yObs": 2.906230389289973,
          "zModel": 0
         },
         {
          "xModel": 6.5,
          "xObs": 0.8000000000000003,
          "yModel": -8.5,
          "yObs": 2.614848687479126,
          "zModel": 0
         },
         {
          "xModel": 7.5,
          "xObs": 0.8500000000000003,
          "yModel": -8.5,
          "yObs": 2.5252553847888524,
          "zModel": 0
         },
         {
          "xModel": 8.5,
          "xObs": 0.9000000000000004,
          "yModel": -8.5,
          "yObs": 2.7938028433610698,
          "zModel": 0
         },
         {
          "xModel": 9.5,
          "xObs": 0.9500000000000004,
          "yModel": -8.5,
          "yObs": 3.20982878344737,
          "zModel": 0
         },
         {
          "xModel": 0.5,
          "xObs": 1.0000000000000004,
          "yModel": -7.5,
          "yObs": 3.2438429911105153,
          "zModel": 0
         },
         {
          "xModel": 1.5,
          "xObs": 1.0500000000000005,
          "yModel": -7.5,
          "yObs": 2.4279874849003464,
          "zModel": 0
         },
         {
          "xModel": 2.5,
          "xObs": 1.1000000000000005,
          "yModel": -7.5,
          "yObs": 2.0529819738650086,
          "zModel": 0
         },
         {
          "xModel": 3.5,
          "xObs": 1.1500000000000006,
          "yModel": -7.5,
          "yObs": 2.4816348593358697,
          "zModel": 0
         },
         {
          "xModel": 4.5,
          "xObs": 1.2000000000000006,
          "yModel": -7.5,
          "yObs": 3.0922932803795744,
          "zModel": 0
         },
         {
          "xModel": 5.5,
          "xObs": 1.2500000000000007,
          "yModel": -7.5,
          "yObs": 2.185165650344928,
          "zModel": 0
         },
         {
          "xModel": 6.5,
          "xObs": 1.3000000000000007,
          "yModel": -7.5,
          "yObs": 3.3107241783718053,
          "zModel": 0
         },
         {
          "xModel": 7.5,
          "xObs": 1.3500000000000008,
          "yModel": -7.5,
          "yObs": 2.641067449116882,
          "zModel": 0
         },
         {
          "xModel": 8.5,
          "xObs": 1.4000000000000008,
          "yModel": -7.5,
          "yObs": 3.285160222410429,
          "zModel": 0
         },
         {
          "xModel": 9.5,
          "xObs": 1.4500000000000008,
          "yModel": -7.5,
          "yObs": 1.8660085235694277,
          "zModel": 0
         },
         {
          "xModel": 0.5,
          "xObs": 1.5000000000000009,
          "yModel": -6.5,
          "yObs": 3.018226839872715,
          "zModel": 0
         },
         {
          "xModel": 1.5,
          "xObs": 1.550000000000001,
          "yModel": -6.5,
          "yObs": 3.1679186575062,
          "zModel": 0
         },
         {
          "xModel": 2.5,
          "xObs": 1.600000000000001,
          "yModel": -6.5,
          "yObs": 1.6540293177378418,
          "zModel": 0
         },
         {
          "xModel": 3.5,
          "xObs": 1.650000000000001,
          "yModel": -6.5,
          "yObs": 3.52396812971466,
          "zModel": 0
         },
         {
          "xModel": 4.5,
          "xObs": 1.700000000000001,
          "yModel": -6.5,
          "yObs": 3.268671203890663,
          "zModel": 0
         },
         {
          "xModel": 5.5,
          "xObs": 1.750000000000001,
          "yModel": -6.5,
          "yObs": 3.1159542953109685,
          "zModel": 0
         },
         {
          "xModel": 6.5,
          "xObs": 1.8000000000000012,
          "yModel": -6.5,
          "yObs": 2.5154618220169565,
          "zModel": 0
         },
         {
          "xModel": 7.5,
          "xObs": 1.8500000000000012,
          "yModel": -6.5,
          "yObs": 3.67573578230852,
          "zModel": 0
         },
         {
          "xModel": 8.5,
          "xObs": 1.9000000000000012,
          "yModel": -6.5,
          "yObs": 2.9795184445093366,
          "zModel": 0
         },
         {
          "xModel": 9.5,
          "xObs": 1.9500000000000013,
          "yModel": -6.5,
          "yObs": 2.9271743515140027,
          "zModel": 0
         },
         {
          "xModel": 0.5,
          "xObs": 2.0000000000000013,
          "yModel": -5.5,
          "yObs": 3.4952128644748592,
          "zModel": 0
         },
         {
          "xModel": 1.5,
          "xObs": 2.0500000000000016,
          "yModel": -5.5,
          "yObs": 2.7608354241744317,
          "zModel": 0
         },
         {
          "xModel": 2.5,
          "xObs": 2.100000000000002,
          "yModel": -5.5,
          "yObs": 3.1051923543254727,
          "zModel": 0
         },
         {
          "xModel": 3.5,
          "xObs": 2.150000000000002,
          "yModel": -5.5,
          "yObs": 2.573306849452804,
          "zModel": 0
         },
         {
          "xModel": 4.5,
          "xObs": 2.2000000000000024,
          "yModel": -5.5,
          "yObs": 2.7327229182025796,
          "zModel": 0
         },
         {
          "xModel": 5.5,
          "xObs": 2.2500000000000027,
          "yModel": -5.5,
          "yObs": 1.4354644477612752,
          "zModel": 0
         },
         {
          "xModel": 6.5,
          "xObs": 2.300000000000003,
          "yModel": -5.5,
          "yObs": 1.188138215013152,
          "zModel": 0
         },
         {
          "xModel": 7.5,
          "xObs": 2.350000000000003,
          "yModel": -5.5,
          "yObs": 2.45608263039751,
          "zModel": 0
         },
         {
          "xModel": 8.5,
          "xObs": 2.4000000000000035,
          "yModel": -5.5,
          "yObs": 2.6910305409154893,
          "zModel": 0
         },
         {
          "xModel": 9.5,
          "xObs": 2.4500000000000037,
          "yModel": -5.5,
          "yObs": 2.224010073505347,
          "zModel": 0
         },
         {
          "xModel": 0.5,
          "xObs": 2.500000000000004,
          "yModel": -4.5,
          "yObs": 1.1148526557527996,
          "zModel": 17
         },
         {
          "xModel": 1.5,
          "xObs": 2.5500000000000043,
          "yModel": -4.5,
          "yObs": 1.9257821054067306,
          "zModel": 0
         },
         {
          "xModel": 2.5,
          "xObs": 2.6000000000000045,
          "yModel": -4.5,
          "yObs": 1.8391072727653897,
          "zModel": 0
         },
         {
          "xModel": 3.5,
          "xObs": 2.650000000000005,
          "yModel": -4.5,
          "yObs": 1.5322140629407417,
          "zModel": 186
         },
         {
          "xModel": 4.5,
          "xObs": 2.700000000000005,
          "yModel": -4.5,
          "yObs": 1.733161461786995,
          "zModel": 205
         },
         {
          "xModel": 5.5,
          "xObs": 2.7500000000000053,
          "yModel": -4.5,
          "yObs": 1.2371559140938828,
          "zModel": 224
         },
         {
          "xModel": 6.5,
          "xObs": 2.8000000000000056,
          "yModel": -4.5,
          "yObs": 2.338597909979724,
          "zModel": 82
         },
         {
          "xModel": 7.5,
          "xObs": 2.850000000000006,
          "yModel": -4.5,
          "yObs": 1.3649292906555575,
          "zModel": 8
         },
         {
          "xModel": 8.5,
          "xObs": 2.900000000000006,
          "yModel": -4.5,
          "yObs": 1.5230553277872465,
          "zModel": 20
         },
         {
          "xModel": 9.5,
          "xObs": 2.9500000000000064,
          "yModel": -4.5,
          "yObs": 0.9813884890486995,
          "zModel": 2
         },
         {
          "xModel": 0.5,
          "xObs": 3.0000000000000067,
          "yModel": -3.5,
          "yObs": 1.4365707535804606,
          "zModel": 146
         },
         {
          "xModel": 1.5,
          "xObs": 3.050000000000007,
          "yModel": -3.5,
          "yObs": 0.9427990932390957,
          "zModel": 3
         },
         {
          "xModel": 2.5,
          "xObs": 3.100000000000007,
          "yModel": -3.5,
          "yObs": 1.4218460864825877,
          "zModel": 1
         },
         {
          "xModel": 3.5,
          "xObs": 3.1500000000000075,
          "yModel": -3.5,
          "yObs": 1.0040740970626807,
          "zModel": 297
         },
         {
          "xModel": 4.5,
          "xObs": 3.2000000000000077,
          "yModel": -3.5,
          "yObs": 1.0295273580044204,
          "zModel": 415
         },
         {
          "xModel": 5.5,
          "xObs": 3.250000000000008,
          "yModel": -3.5,
          "yObs": 0.9689814580396159,
          "zModel": 546
         },
         {
          "xModel": 6.5,
          "xObs": 3.3000000000000083,
          "yModel": -3.5,
          "yObs": 0.35890255069946064,
          "zModel": 53
         },
         {
          "xModel": 7.5,
          "xObs": 3.3500000000000085,
          "yModel": -3.5,
          "yObs": -0.12361164335113184,
          "zModel": 23
         },
         {
          "xModel": 8.5,
          "xObs": 3.400000000000009,
          "yModel": -3.5,
          "yObs": 0.5020158239595681,
          "zModel": 0
         },
         {
          "xModel": 9.5,
          "xObs": 3.450000000000009,
          "yModel": -3.5,
          "yObs": 0.07821470543201126,
          "zModel": 0
         },
         {
          "xModel": 0.5,
          "xObs": 3.5000000000000093,
          "yModel": -2.5,
          "yObs": 0.4220454885887604,
          "zModel": 267
         },
         {
          "xModel": 1.5,
          "xObs": 3.5500000000000096,
          "yModel": -2.5,
          "yObs": 0.5536232495977816,
          "zModel": 47
         },
         {
          "xModel": 2.5,
          "xObs": 3.60000000000001,
          "yModel": -2.5,
          "yObs": -0.6325095120083207,
          "zModel": 90
         },
         {
          "xModel": 3.5,
          "xObs": 3.65000000000001,
          "yModel": -2.5,
          "yObs": 0.2884219391750098,
          "zModel": 817
         },
         {
          "xModel": 4.5,
          "xObs": 3.7000000000000104,
          "yModel": -2.5,
          "yObs": 0.6182064964631553,
          "zModel": 1187
         },
         {
          "xModel": 5.5,
          "xObs": 3.7500000000000107,
          "yModel": -2.5,
          "yObs": -0.04265964460184729,
          "zModel": 821
         },
         {
          "xModel": 6.5,
          "xObs": 3.800000000000011,
          "yModel": -2.5,
          "yObs": -0.1913876432932217,
          "zModel": 212
         },
         {
          "xModel": 7.5,
          "xObs": 3.850000000000011,
          "yModel": -2.5,
          "yObs": 0.09856794866972324,
          "zModel": 58
         },
         {
          "xModel": 8.5,
          "xObs": 3.9000000000000115,
          "yModel": -2.5,
          "yObs": -0.10072935394720922,
          "zModel": 146
         },
         {
          "xModel": 9.5,
          "xObs": 3.9500000000000117,
          "yModel": -2.5,
          "yObs": -0.03346903247883687,
          "zModel": 63
         },
         {
          "xModel": 0.5,
          "xObs": 4.000000000000012,
          "yModel": -1.5,
          "yObs": -0.49838732422404725,
          "zModel": 373
         },
         {
          "xModel": 1.5,
          "xObs": 4.050000000000013,
          "yModel": -1.5,
          "yObs": -0.5535135752651713,
          "zModel": 247
         },
         {
          "xModel": 2.5,
          "xObs": 4.100000000000014,
          "yModel": -1.5,
          "yObs": -0.8401916658223012,
          "zModel": 233
         },
         {
          "xModel": 3.5,
          "xObs": 4.150000000000015,
          "yModel": -1.5,
          "yObs": -0.6782680464428212,
          "zModel": 896
         },
         {
          "xModel": 4.5,
          "xObs": 4.200000000000015,
          "yModel": -1.5,
          "yObs": -0.6497865175013462,
          "zModel": 895
         },
         {
          "xModel": 5.5,
          "xObs": 4.250000000000016,
          "yModel": -1.5,
          "yObs": -1.0059632554079094,
          "zModel": 1073
         },
         {
          "xModel": 6.5,
          "xObs": 4.300000000000017,
          "yModel": -1.5,
          "yObs": -0.32616618339174763,
          "zModel": 361
         },
         {
          "xModel": 7.5,
          "xObs": 4.350000000000017,
          "yModel": -1.5,
          "yObs": -1.0452214458130242,
          "zModel": 348
         },
         {
          "xModel": 8.5,
          "xObs": 4.400000000000018,
          "yModel": -1.5,
          "yObs": -0.9726267537247887,
          "zModel": 237
         },
         {
          "xModel": 9.5,
          "xObs": 4.450000000000019,
          "yModel": -1.5,
          "yObs": -1.7930729211858654,
          "zModel": 268
         },
         {
          "xModel": 0.5,
          "xObs": 4.5000000000000195,
          "yModel": -0.5,
          "yObs": -1.0179268420947782,
          "zModel": 641
         },
         {
          "xModel": 1.5,
          "xObs": 4.55000000000002,
          "yModel": -0.5,
          "yObs": -1.6554469230919975,
          "zModel": 710
         },
         {
          "xModel": 2.5,
          "xObs": 4.600000000000021,
          "yModel": -0.5,
          "yObs": -0.8090422286671719,
          "zModel": 684
         },
         {
          "xModel": 3.5,
          "xObs": 4.650000000000022,
          "yModel": -0.5,
          "yObs": -1.6165588220926619,
          "zModel": 985
         },
         {
          "xModel": 4.5,
          "xObs": 4.700000000000022,
          "yModel": -0.5,
          "yObs": -1.996021179666128,
          "zModel": 941
         },
         {
          "xModel": 5.5,
          "xObs": 4.750000000000023,
          "yModel": -0.5,
          "yObs": -0.3554231642782756,
          "zModel": 1009
         },
         {
          "xModel": 6.5,
          "xObs": 4.800000000000024,
          "yModel": -0.5,
          "yObs": -0.7997576870097178,
          "zModel": 715
         },
         {
          "xModel": 7.5,
          "xObs": 4.8500000000000245,
          "yModel": -0.5,
          "yObs": -1.219278062867024,
          "zModel": 774
         },
         {
          "xModel": 8.5,
          "xObs": 4.900000000000025,
          "yModel": -0.5,
          "yObs": -1.0160722073168647,
          "zModel": 806
         },
         {
          "xModel": 9.5,
          "xObs": 4.950000000000026,
          "yModel": -0.5,
          "yObs": -0.8217832266774907,
          "zModel": 502
         },
         {
          "xModel": 0.5,
          "xObs": 5.000000000000027,
          "yModel": 0.5,
          "yObs": -0.8330643446535793,
          "zModel": 835
         },
         {
          "xModel": 1.5,
          "xObs": 5.050000000000027,
          "yModel": 0.5,
          "yObs": -0.5880430255667033,
          "zModel": 989
         },
         {
          "xModel": 2.5,
          "xObs": 5.100000000000028,
          "yModel": 0.5,
          "yObs": -1.1976049843661896,
          "zModel": 852
         },
         {
          "xModel": 3.5,
          "xObs": 5.150000000000029,
          "yModel": 0.5,
          "yObs": -1.0496130664042407,
          "zModel": 961
         },
         {
          "xModel": 4.5,
          "xObs": 5.2000000000000295,
          "yModel": 0.5,
          "yObs": -0.7730494440304638,
          "zModel": 1046
         },
         {
          "xModel": 5.5,
          "xObs": 5.25000000000003,
          "yModel": 0.5,
          "yObs": -0.2432556193608359,
          "zModel": 1185
         },
         {
          "xModel": 6.5,
          "xObs": 5.300000000000031,
          "yModel": 0.5,
          "yObs": -0.7300742873371373,
          "zModel": 1141
         },
         {
          "xModel": 7.5,
          "xObs": 5.350000000000032,
          "yModel": 0.5,
          "yObs": 0.2509748524411408,
          "zModel": 901
         },
         {
          "xModel": 8.5,
          "xObs": 5.400000000000032,
          "yModel": 0.5,
          "yObs": -0.3305200191995644,
          "zModel": 635
         },
         {
          "xModel": 9.5,
          "xObs": 5.450000000000033,
          "yModel": 0.5,
          "yObs": 0.12316801792565524,
          "zModel": 782
         },
         {
          "xModel": 0.5,
          "xObs": 5.500000000000034,
          "yModel": 1.5,
          "yObs": -1.0593579567549392,
          "zModel": 1291
         },
         {
          "xModel": 1.5,
          "xObs": 5.5500000000000345,
          "yModel": 1.5,
          "yObs": -0.3555380235795497,
          "zModel": 905
         },
         {
          "xModel": 2.5,
          "xObs": 5.600000000000035,
          "yModel": 1.5,
          "yObs": -0.6580169063154784,
          "zModel": 991
         },
         {
          "xModel": 3.5,
          "xObs": 5.650000000000036,
          "yModel": 1.5,
          "yObs": -0.10930793846585102,
          "zModel": 1028
         },
         {
          "xModel": 4.5,
          "xObs": 5.700000000000037,
          "yModel": 1.5,
          "yObs": -0.020369875722439354,
          "zModel": 1085
         },
         {
          "xModel": 5.5,
          "xObs": 5.750000000000037,
          "yModel": 1.5,
          "yObs": -0.19236774546582713,
          "zModel": 950
         },
         {
          "xModel": 6.5,
          "xObs": 5.800000000000038,
          "yModel": 1.5,
          "yObs": -0.11268032975224687,
          "zModel": 1038
         },
         {
          "xModel": 7.5,
          "xObs": 5.850000000000039,
          "yModel": 1.5,
          "yObs": 0.02757922458698156,
          "zModel": 987
         },
         {
          "xModel": 8.5,
          "xObs": 5.900000000000039,
          "yModel": 1.5,
          "yObs": 0.11607150129735322,
          "zModel": 1006
         },
         {
          "xModel": 9.5,
          "xObs": 5.95000000000004,
          "yModel": 1.5,
          "yObs": 0.6235652369436939,
          "zModel": 908
         },
         {
          "xModel": 0.5,
          "xObs": 6.000000000000041,
          "yModel": 2.5,
          "yObs": 0.6905190013670659,
          "zModel": 853
         },
         {
          "xModel": 1.5,
          "xObs": 6.050000000000042,
          "yModel": 2.5,
          "yObs": 0.6246995666750084,
          "zModel": 878
         },
         {
          "xModel": 2.5,
          "xObs": 6.100000000000042,
          "yModel": 2.5,
          "yObs": 0.6244954436831605,
          "zModel": 615
         },
         {
          "xModel": 3.5,
          "xObs": 6.150000000000043,
          "yModel": 2.5,
          "yObs": 0.4210778489017132,
          "zModel": 728
         },
         {
          "xModel": 4.5,
          "xObs": 6.200000000000044,
          "yModel": 2.5,
          "yObs": 0.9299631573691134,
          "zModel": 666
         },
         {
          "xModel": 5.5,
          "xObs": 6.250000000000044,
          "yModel": 2.5,
          "yObs": 0.786727679074431,
          "zModel": 634
         },
         {
          "xModel": 6.5,
          "xObs": 6.300000000000045,
          "yModel": 2.5,
          "yObs": 0.9195908327816521,
          "zModel": 890
         },
         {
          "xModel": 7.5,
          "xObs": 6.350000000000046,
          "yModel": 2.5,
          "yObs": 1.7824538018029767,
          "zModel": 811
         },
         {
          "xModel": 8.5,
          "xObs": 6.4000000000000465,
          "yModel": 2.5,
          "yObs": 0.9543688274833177,
          "zModel": 948
         },
         {
          "xModel": 9.5,
          "xObs": 6.450000000000047,
          "yModel": 2.5,
          "yObs": 0.8869703887164193,
          "zModel": 1023
         },
         {
          "xModel": 0.5,
          "xObs": 6.500000000000048,
          "yModel": 3.5,
          "yObs": 2.140175462801426,
          "zModel": 856
         },
         {
          "xModel": 1.5,
          "xObs": 6.550000000000049,
          "yModel": 3.5,
          "yObs": 1.9695449264138296,
          "zModel": 763
         },
         {
          "xModel": 2.5,
          "xObs": 6.600000000000049,
          "yModel": 3.5,
          "yObs": 1.7051008683531197,
          "zModel": 647
         },
         {
          "xModel": 3.5,
          "xObs": 6.65000000000005,
          "yModel": 3.5,
          "yObs": 1.8004094577528116,
          "zModel": 394
         },
         {
          "xModel": 4.5,
          "xObs": 6.700000000000051,
          "yModel": 3.5,
          "yObs": 1.9331202228780155,
          "zModel": 218
         },
         {
          "xModel": 5.5,
          "xObs": 6.7500000000000515,
          "yModel": 3.5,
          "yObs": 1.9299322998841815,
          "zModel": 155
         },
         {
          "xModel": 6.5,
          "xObs": 6.800000000000052,
          "yModel": 3.5,
          "yObs": 2.6806850906919095,
          "zModel": 699
         },
         {
          "xModel": 7.5,
          "xObs": 6.850000000000053,
          "yModel": 3.5,
          "yObs": 1.264765544153438,
          "zModel": 833
         },
         {
          "xModel": 8.5,
          "xObs": 6.900000000000054,
          "yModel": 3.5,
          "yObs": 2.973634996033507,
          "zModel": 891
         },
         {
          "xModel": 9.5,
          "xObs": 6.950000000000054,
          "yModel": 3.5,
          "yObs": 1.9899927741203218,
          "zModel": 931
         },
         {
          "xModel": 0.5,
          "xObs": 7.000000000000055,
          "yModel": 4.5,
          "yObs": 3.2246866660085742,
          "zModel": 467
         },
         {
          "xModel": 1.5,
          "xObs": 7.050000000000056,
          "yModel": 4.5,
          "yObs": 2.4945717090875386,
          "zModel": 787
         },
         {
          "xModel": 2.5,
          "xObs": 7.1000000000000565,
          "yModel": 4.5,
          "yObs": 2.1301852387866784,
          "zModel": 563
         },
         {
          "xModel": 3.5,
          "xObs": 7.150000000000057,
          "yModel": 4.5,
          "yObs": 1.9750435105940043,
          "zModel": 279
         },
         {
          "xModel": 4.5,
          "xObs": 7.200000000000058,
          "yModel": 4.5,
          "yObs": 2.762942992035683,
          "zModel": 36
         },
         {
          "xModel": 5.5,
          "xObs": 7.250000000000059,
          "yModel": 4.5,
          "yObs": 2.6709078609684047,
          "zModel": 43
         },
         {
          "xModel": 6.5,
          "xObs": 7.300000000000059,
          "yModel": 4.5,
          "yObs": 1.9191465172812685,
          "zModel": 640
         },
         {
          "xModel": 7.5,
          "xObs": 7.35000000000006,
          "yModel": 4.5,
          "yObs": 2.6060862697926503,
          "zModel": 707
         },
         {
          "xModel": 8.5,
          "xObs": 7.400000000000061,
          "yModel": 4.5,
          "yObs": 2.8677019706175955,
          "zModel": 415
         },
         {
          "xModel": 9.5,
          "xObs": 7.4500000000000615,
          "yModel": 4.5,
          "yObs": 2.604083284795289,
          "zModel": 601
         },
         {
          "xModel": 0.5,
          "xObs": 7.500000000000062,
          "yModel": 5.5,
          "yObs": 1.8638123658008914,
          "zModel": 246
         },
         {
          "xModel": 1.5,
          "xObs": 7.550000000000063,
          "yModel": 5.5,
          "yObs": 2.901325163023314,
          "zModel": 309
         },
         {
          "xModel": 2.5,
          "xObs": 7.600000000000064,
          "yModel": 5.5,
          "yObs": 3.05423141701512,
          "zModel": 380
         },
         {
          "xModel": 3.5,
          "xObs": 7.650000000000064,
          "yModel": 5.5,
          "yObs": 2.9598307522401166,
          "zModel": 63
         },
         {
          "xModel": 4.5,
          "xObs": 7.700000000000065,
          "yModel": 5.5,
          "yObs": 2.29685415895594,
          "zModel": 18
         },
         {
          "xModel": 5.5,
          "xObs": 7.750000000000066,
          "yModel": 5.5,
          "yObs": 2.967371702440234,
          "zModel": 61
         },
         {
          "xModel": 6.5,
          "xObs": 7.800000000000066,
          "yModel": 5.5,
          "yObs": 1.9207224622778278,
          "zModel": 290
         },
         {
          "xModel": 7.5,
          "xObs": 7.850000000000067,
          "yModel": 5.5,
          "yObs": 3.126376763320229,
          "zModel": 291
         },
         {
          "xModel": 8.5,
          "xObs": 7.900000000000068,
          "yModel": 5.5,
          "yObs": 2.892281753335448,
          "zModel": 419
         },
         {
          "xModel": 9.5,
          "xObs": 7.950000000000069,
          "yModel": 5.5,
          "yObs": 3.315041399229809,
          "zModel": 274
         },
         {
          "xModel": 0.5,
          "xObs": 8.00000000000007,
          "yModel": 6.5,
          "yObs": 3.372080019524893,
          "zModel": 55
         },
         {
          "xModel": 1.5,
          "xObs": 8.05000000000007,
          "yModel": 6.5,
          "yObs": 3.206871659314735,
          "zModel": 44
         },
         {
          "xModel": 2.5,
          "xObs": 8.10000000000007,
          "yModel": 6.5,
          "yObs": 2.927109793386764,
          "zModel": 75
         },
         {
          "xModel": 3.5,
          "xObs": 8.150000000000071,
          "yModel": 6.5,
          "yObs": 3.0087607730080754,
          "zModel": 29
         },
         {
          "xModel": 4.5,
          "xObs": 8.200000000000072,
          "yModel": 6.5,
          "yObs": 2.6953191752289816,
          "zModel": 0
         },
         {
          "xModel": 5.5,
          "xObs": 8.250000000000073,
          "yModel": 6.5,
          "yObs": 3.464028635768007,
          "zModel": 0
         },
         {
          "xModel": 6.5,
          "xObs": 8.300000000000074,
          "yModel": 6.5,
          "yObs": 2.9249461563144465,
          "zModel": 57
         },
         {
          "xModel": 7.5,
          "xObs": 8.350000000000074,
          "yModel": 6.5,
          "yObs": 2.683390344365478,
          "zModel": 40
         },
         {
          "xModel": 8.5,
          "xObs": 8.400000000000075,
          "yModel": 6.5,
          "yObs": 2.7336872111666515,
          "zModel": 41
         },
         {
          "xModel": 9.5,
          "xObs": 8.450000000000076,
          "yModel": 6.5,
          "yObs": 2.705684574025804,
          "zModel": 53
         },
         {
          "xModel": 0.5,
          "xObs": 8.500000000000076,
          "yModel": 7.5,
          "yObs": 2.7315133893932737,
          "zModel": 5
         },
         {
          "xModel": 1.5,
          "xObs": 8.550000000000077,
          "yModel": 7.5,
          "yObs": 2.525659149090854,
          "zModel": 13
         },
         {
          "xModel": 2.5,
          "xObs": 8.600000000000078,
          "yModel": 7.5,
          "yObs": 2.57833762390074,
          "zModel": 43
         },
         {
          "xModel": 3.5,
          "xObs": 8.650000000000079,
          "yModel": 7.5,
          "yObs": 1.7934119974062512,
          "zModel": 9
         },
         {
          "xModel": 4.5,
          "xObs": 8.70000000000008,
          "yModel": 7.5,
          "yObs": 2.7668696443116447,
          "zModel": 0
         },
         {
          "xModel": 5.5,
          "xObs": 8.75000000000008,
          "yModel": 7.5,
          "yObs": 1.8892839855112742,
          "zModel": 0
         },
         {
          "xModel": 6.5,
          "xObs": 8.80000000000008,
          "yModel": 7.5,
          "yObs": 1.7092938524179544,
          "zModel": 18
         },
         {
          "xModel": 7.5,
          "xObs": 8.850000000000081,
          "yModel": 7.5,
          "yObs": 1.5579739249142635,
          "zModel": 37
         },
         {
          "xModel": 8.5,
          "xObs": 8.900000000000082,
          "yModel": 7.5,
          "yObs": 1.083669821114379,
          "zModel": 3
         },
         {
          "xModel": 9.5,
          "xObs": 8.950000000000083,
          "yModel": 7.5,
          "yObs": 3.2229507298952065,
          "zModel": 7
         },
         {
          "xModel": 0.5,
          "xObs": 9.000000000000083,
          "yModel": 8.5,
          "yObs": 1.8113207671356282,
          "zModel": 0
         },
         {
          "xModel": 1.5,
          "xObs": 9.050000000000084,
          "yModel": 8.5,
          "yObs": 2.2110999161544993,
          "zModel": 0
         },
         {
          "xModel": 2.5,
          "xObs": 9.100000000000085,
          "yModel": 8.5,
          "yObs": 1.3037899181541426,
          "zModel": 0
         },
         {
          "xModel": 3.5,
          "xObs": 9.150000000000086,
          "yModel": 8.5,
          "yObs": 1.0606321749925556,
          "zModel": 0
         },
         {
          "xModel": 4.5,
          "xObs": 9.200000000000086,
          "yModel": 8.5,
          "yObs": 2.0648690392664353,
          "zModel": 0
         },
         {
          "xModel": 5.5,
          "xObs": 9.250000000000087,
          "yModel": 8.5,
          "yObs": 1.3064291094453866,
          "zModel": 0
         },
         {
          "xModel": 6.5,
          "xObs": 9.300000000000088,
          "yModel": 8.5,
          "yObs": 1.2204682122880306,
          "zModel": 0
         },
         {
          "xModel": 7.5,
          "xObs": 9.350000000000088,
          "yModel": 8.5,
          "yObs": 0.6867570318279829,
          "zModel": 0
         },
         {
          "xModel": 8.5,
          "xObs": 9.40000000000009,
          "yModel": 8.5,
          "yObs": 1.2454627549529667,
          "zModel": 0
         },
         {
          "xModel": 9.5,
          "xObs": 9.45000000000009,
          "yModel": 8.5,
          "yObs": 0.9840591373857609,
          "zModel": 0
         },
         {
          "xModel": 0.5,
          "xObs": 9.50000000000009,
          "yModel": 9.5,
          "yObs": 1.2664744299389152,
          "zModel": 0
         },
         {
          "xModel": 1.5,
          "xObs": 9.550000000000091,
          "yModel": 9.5,
          "yObs": 0.694825381699358,
          "zModel": 0
         },
         {
          "xModel": 2.5,
          "xObs": 9.600000000000092,
          "yModel": 9.5,
          "yObs": 1.0060400328923014,
          "zModel": 0
         },
         {
          "xModel": 3.5,
          "xObs": 9.650000000000093,
          "yModel": 9.5,
          "yObs": 0.861835797348268,
          "zModel": 0
         },
         {
          "xModel": 4.5,
          "xObs": 9.700000000000093,
          "yModel": 9.5,
          "yObs": 0.6907354322220223,
          "zModel": 0
         },
         {
          "xModel": 5.5,
          "xObs": 9.750000000000094,
          "yModel": 9.5,
          "yObs": -0.8349433932458253,
          "zModel": 0
         },
         {
          "xModel": 6.5,
          "xObs": 9.800000000000095,
          "yModel": 9.5,
          "yObs": -0.03378138469835418,
          "zModel": 0
         },
         {
          "xModel": 7.5,
          "xObs": 9.850000000000096,
          "yModel": 9.5,
          "yObs": 0.40011754263542537,
          "zModel": 0
         },
         {
          "xModel": 8.5,
          "xObs": 9.900000000000096,
          "yModel": 9.5,
          "yObs": 1.0457407660534015,
          "zModel": 0
         },
         {
          "xModel": 9.5,
          "xObs": 9.950000000000097,
          "yModel": 9.5,
          "yObs": 0.23999553682232452,
          "zModel": 0
         }
        ]
       },
       "description": "Plot",
       "height": 300,
       "layer": [
        {
         "encoding": {
          "fill": {
           "field": "zModel",
           "scale": {
            "scheme": {
             "extent": [
              0,
              1
             ],
             "name": "blues"
            }
           },
           "type": "quantitative"
          },
          "stroke": {
           "field": "zModel",
           "legend": {
            "type": "gradient"
           },
           "scale": {
            "scheme": {
             "extent": [
              0,
              1
             ],
             "name": "blues"
            }
           },
           "type": "quantitative"
          },
          "x": {
           "axis": {
            "gridOpacity": 0.1
           },
           "field": "xModel",
           "type": "nominal"
          },
          "y": {
           "axis": {
            "gridOpacity": 0.1
           },
           "field": "yModel",
           "sort": "descending",
           "type": "nominal"
          }
         },
         "mark": "rect"
        },
        {
         "encoding": {
          "x": {
           "field": "xObs",
           "scale": {
            "domain": [
             0,
             10
            ]
           },
           "type": "quantitative"
          },
          "y": {
           "field": "yObs",
           "scale": {
            "domain": [
             -10,
             10
            ]
           },
           "type": "quantitative"
          }
         },
         "mark": {
          "color": "blue",
          "type": "circle"
         }
        }
       ],
       "width": 600
      },
      "image/png": "[encoded data removed]"
     },
     "metadata": {},
     "output_type": "display_data"
    }
   ],
   "source": [
    "nsamples = 200\n",
    "noise <- sampleIOfixed $ replicateM nsamples $ normal 0.0 0.5\n",
    "observations = take nsamples [Data x (2 * sin x + 1 + n) | (x, n) <- zip [0, (10 / nsamples) ..] noise]\n",
    "\n",
    "nnodes = 3\n",
    "mkSampler = prior . mh 60000\n",
    "predicted <- sampleIOfixed $ mkSampler $ predDist $ postNN (priorNN nnodes) observations\n",
    "\n",
    "hist = histo2D (0, 10, 10) (-10, 20, 10) ((\\(nn, d) -> (xValue d, yValue d)) <$> predicted)\n",
    "cents = Vec.toList $ DH.binsCenters $ DH.bins hist\n",
    "val = Vec.toList $ DH.histData hist\n",
    "vlShow $\n",
    "  plot\n",
    "    (600, 300)\n",
    "    (L [imagePlot \"xModel\" \"yModel\" \"zModel\", scatterBlue \"xObs\" \"yObs\" (0, 10) (-10, 10)])\n",
    "    ( Cols\n",
    "        [ (\"xModel\", VL.Numbers (fst <$> cents)),\n",
    "          (\"yModel\", VL.Numbers (snd <$> cents)),\n",
    "          (\"zModel\", VL.Numbers val),\n",
    "          (\"xObs\", VL.Numbers (xValue <$> observations)),\n",
    "          (\"yObs\", VL.Numbers (yValue <$> observations))\n",
    "        ]\n",
    "    )"
   ]
  },
  {
   "cell_type": "markdown",
   "metadata": {},
   "source": [
    "This kind of works.\n",
    "But again where are the steps? - we should have three of them since we used a 3 node network.\n",
    "If you look cloesly, you can now actually see them:\n",
    "the two peaks of the sinus correspond to two steps, and the trough to another.\n",
    "\n",
    "But the model inferred quite a large standard deviation, certainly larger than the original `sigma = 0.5` that we used to generate the data.\n",
    "We can check it out more closely in this histogram of the inferred sigma:"
   ]
  },
  {
   "cell_type": "code",
   "execution_count": 53,
   "metadata": {},
   "outputs": [
    {
     "data": {
      "application/vnd.vegalite.v2+json": {
       "$schema": "https://vega.github.io/schema/vega-lite/v3.json",
       "background": "#f9f9f9",
       "config": {
        "axis": {
         "domain": false,
         "grid": true,
         "gridColor": "#FFFFFF",
         "labelColor": "#7F7F7F",
         "labelPadding": 4,
         "tickColor": "#7F7F7F",
         "tickSize": 5.67
        }
       },
       "data": {
        "values": [
         {
          "bias center": 0.03333333333333333,
          "count": 0
         },
         {
          "bias center": 0.1,
          "count": 0
         },
         {
          "bias center": 0.16666666666666666,
          "count": 0
         },
         {
          "bias center": 0.23333333333333334,
          "count": 0
         },
         {
          "bias center": 0.3,
          "count": 0
         },
         {
          "bias center": 0.36666666666666664,
          "count": 0
         },
         {
          "bias center": 0.43333333333333335,
          "count": 0
         },
         {
          "bias center": 0.5,
          "count": 0
         },
         {
          "bias center": 0.5666666666666667,
          "count": 0
         },
         {
          "bias center": 0.6333333333333333,
          "count": 11
         },
         {
          "bias center": 0.7,
          "count": 1475
         },
         {
          "bias center": 0.7666666666666666,
          "count": 6812
         },
         {
          "bias center": 0.8333333333333334,
          "count": 11189
         },
         {
          "bias center": 0.9,
          "count": 13483
         },
         {
          "bias center": 0.9666666666666667,
          "count": 10979
         },
         {
          "bias center": 1.0333333333333334,
          "count": 9229
         },
         {
          "bias center": 1.1,
          "count": 4516
         },
         {
          "bias center": 1.1666666666666667,
          "count": 1178
         },
         {
          "bias center": 1.2333333333333334,
          "count": 254
         },
         {
          "bias center": 1.3,
          "count": 510
         },
         {
          "bias center": 1.3666666666666667,
          "count": 205
         },
         {
          "bias center": 1.4333333333333333,
          "count": 78
         },
         {
          "bias center": 1.5,
          "count": 82
         },
         {
          "bias center": 1.5666666666666667,
          "count": 0
         },
         {
          "bias center": 1.6333333333333335,
          "count": 0
         },
         {
          "bias center": 1.7000000000000002,
          "count": 0
         },
         {
          "bias center": 1.7666666666666668,
          "count": 0
         },
         {
          "bias center": 1.8333333333333335,
          "count": 0
         },
         {
          "bias center": 1.9000000000000001,
          "count": 0
         },
         {
          "bias center": 1.9666666666666668,
          "count": 0
         }
        ]
       },
       "description": "Plot",
       "height": 150,
       "layer": [
        {
         "encoding": {
          "x": {
           "field": "bias center",
           "type": "quantitative"
          },
          "y": {
           "field": "count",
           "type": "quantitative"
          }
         },
         "mark": {
          "color": "blue",
          "type": "line"
         }
        }
       ],
       "width": 300
      },
      "image/png": "[encoded data removed]"
     },
     "metadata": {},
     "output_type": "display_data"
    }
   ],
   "source": [
    "bs = sigma . fst <$> predicted\n",
    "\n",
    "hist = histo (0.0, 30, 2.0) bs\n",
    "\n",
    "cents = Vec.toList $ DH.binsCenters $ DH.bins hist\n",
    "val = Vec.toList $ DH.histData hist\n",
    "vlShow $ plot (300, 150)\n",
    "              (L [linePlot \"bias center\" \"count\"])\n",
    "              (Cols [(\"bias center\", VL.Numbers cents),\n",
    "                     (\"count\", VL.Numbers val)\n",
    "                     ])"
   ]
  },
  {
   "cell_type": "markdown",
   "metadata": {},
   "source": [
    "Why is the inferred sigma larger than the data sigma?\n",
    "The reason is easy to understand and illuminates the meaning of the `errorModel`:\n",
    "What have we done so far?\n",
    "We have first generated data along a line (example 1) or a sinus (example 2) and added noise around.\n",
    "We have then defined distributions that are _step functions_ with noise around and assessed those.\n",
    "Step functions cannot naturally fit a line or a sinus, this _error_ of the forward model will necessarily be mapped into the `sigma` parameter that is larger than anticipated.\n",
    "Note that this is fundamentally different to our previous blog post where we have generated data as line with noise and then inferred lines with noise around from it - there was no difference between the data generating model and our statistical model.\n",
    "Yet, in real life we usually don't know the data generating processes and errors between our statistical model and reality are to always to be expected.\n",
    "The error model is thus also different from some intrinsic stochasticity that the data generating process could have but that could be perfectly well described within our framework, for example with a specific _noise model_.\n",
    "\n",
    "As a final step, let us actually look at the posterior distribution of weights and biases that we inferred.\n",
    "In other words, what distribution of step positions and amplitudes do we expect after seeing the data?\n",
    "Checkout this plot:"
   ]
  },
  {
   "cell_type": "code",
   "execution_count": 54,
   "metadata": {},
   "outputs": [
    {
     "data": {
      "application/vnd.vegalite.v2+json": {
       "$schema": "https://vega.github.io/schema/vega-lite/v3.json",
       "background": "#f9f9f9",
       "config": {
        "axis": {
         "domain": false,
         "grid": true,
         "gridColor": "#FFFFFF",
         "labelColor": "#7F7F7F",
         "labelPadding": 4,
         "tickColor": "#7F7F7F",
         "tickSize": 5.67
        }
       },
       "data": {
        "values": [
         {
          "biases": -4.625,
          "count": 0,
          "weights": -4.75
         },
         {
          "biases": -3.875,
          "count": 0,
          "weights": -4.75
         },
         {
          "biases": -3.125,
          "count": 0,
          "weights": -4.75
         },
         {
          "biases": -2.375,
          "count": 0,
          "weights": -4.75
         },
         {
          "biases": -1.625,
          "count": 0,
          "weights": -4.75
         },
         {
          "biases": -0.875,
          "count": 0,
          "weights": -4.75
         },
         {
          "biases": -0.125,
          "count": 0,
          "weights": -4.75
         },
         {
          "biases": 0.625,
          "count": 0,
          "weights": -4.75
         },
         {
          "biases": 1.375,
          "count": 0,
          "weights": -4.75
         },
         {
          "biases": 2.125,
          "count": 0,
          "weights": -4.75
         },
         {
          "biases": 2.875,
          "count": 0,
          "weights": -4.75
         },
         {
          "biases": 3.625,
          "count": 0,
          "weights": -4.75
         },
         {
          "biases": 4.375,
          "count": 0,
          "weights": -4.75
         },
         {
          "biases": 5.125,
          "count": 0,
          "weights": -4.75
         },
         {
          "biases": 5.875,
          "count": 0,
          "weights": -4.75
         },
         {
          "biases": 6.625,
          "count": 0,
          "weights": -4.75
         },
         {
          "biases": 7.375,
          "count": 0,
          "weights": -4.75
         },
         {
          "biases": 8.125,
          "count": 0,
          "weights": -4.75
         },
         {
          "biases": 8.875,
          "count": 0,
          "weights": -4.75
         },
         {
          "biases": 9.625,
          "count": 35,
          "weights": -4.75
         },
         {
          "biases": -4.625,
          "count": 0,
          "weights": -4.25
         },
         {
          "biases": -3.875,
          "count": 0,
          "weights": -4.25
         },
         {
          "biases": -3.125,
          "count": 0,
          "weights": -4.25
         },
         {
          "biases": -2.375,
          "count": 0,
          "weights": -4.25
         },
         {
          "biases": -1.625,
          "count": 0,
          "weights": -4.25
         },
         {
          "biases": -0.875,
          "count": 0,
          "weights": -4.25
         },
         {
          "biases": -0.125,
          "count": 0,
          "weights": -4.25
         },
         {
          "biases": 0.625,
          "count": 0,
          "weights": -4.25
         },
         {
          "biases": 1.375,
          "count": 0,
          "weights": -4.25
         },
         {
          "biases": 2.125,
          "count": 0,
          "weights": -4.25
         },
         {
          "biases": 2.875,
          "count": 0,
          "weights": -4.25
         },
         {
          "biases": 3.625,
          "count": 0,
          "weights": -4.25
         },
         {
          "biases": 4.375,
          "count": 0,
          "weights": -4.25
         },
         {
          "biases": 5.125,
          "count": 0,
          "weights": -4.25
         },
         {
          "biases": 5.875,
          "count": 0,
          "weights": -4.25
         },
         {
          "biases": 6.625,
          "count": 0,
          "weights": -4.25
         },
         {
          "biases": 7.375,
          "count": 0,
          "weights": -4.25
         },
         {
          "biases": 8.125,
          "count": 0,
          "weights": -4.25
         },
         {
          "biases": 8.875,
          "count": 0,
          "weights": -4.25
         },
         {
          "biases": 9.625,
          "count": 13,
          "weights": -4.25
         },
         {
          "biases": -4.625,
          "count": 0,
          "weights": -3.75
         },
         {
          "biases": -3.875,
          "count": 0,
          "weights": -3.75
         },
         {
          "biases": -3.125,
          "count": 0,
          "weights": -3.75
         },
         {
          "biases": -2.375,
          "count": 0,
          "weights": -3.75
         },
         {
          "biases": -1.625,
          "count": 0,
          "weights": -3.75
         },
         {
          "biases": -0.875,
          "count": 0,
          "weights": -3.75
         },
         {
          "biases": -0.125,
          "count": 0,
          "weights": -3.75
         },
         {
          "biases": 0.625,
          "count": 0,
          "weights": -3.75
         },
         {
          "biases": 1.375,
          "count": 0,
          "weights": -3.75
         },
         {
          "biases": 2.125,
          "count": 0,
          "weights": -3.75
         },
         {
          "biases": 2.875,
          "count": 85,
          "weights": -3.75
         },
         {
          "biases": 3.625,
          "count": 0,
          "weights": -3.75
         },
         {
          "biases": 4.375,
          "count": 0,
          "weights": -3.75
         },
         {
          "biases": 5.125,
          "count": 0,
          "weights": -3.75
         },
         {
          "biases": 5.875,
          "count": 0,
          "weights": -3.75
         },
         {
          "biases": 6.625,
          "count": 0,
          "weights": -3.75
         },
         {
          "biases": 7.375,
          "count": 0,
          "weights": -3.75
         },
         {
          "biases": 8.125,
          "count": 0,
          "weights": -3.75
         },
         {
          "biases": 8.875,
          "count": 0,
          "weights": -3.75
         },
         {
          "biases": 9.625,
          "count": 9,
          "weights": -3.75
         },
         {
          "biases": -4.625,
          "count": 0,
          "weights": -3.25
         },
         {
          "biases": -3.875,
          "count": 0,
          "weights": -3.25
         },
         {
          "biases": -3.125,
          "count": 0,
          "weights": -3.25
         },
         {
          "biases": -2.375,
          "count": 0,
          "weights": -3.25
         },
         {
          "biases": -1.625,
          "count": 0,
          "weights": -3.25
         },
         {
          "biases": -0.875,
          "count": 0,
          "weights": -3.25
         },
         {
          "biases": -0.125,
          "count": 0,
          "weights": -3.25
         },
         {
          "biases": 0.625,
          "count": 0,
          "weights": -3.25
         },
         {
          "biases": 1.375,
          "count": 0,
          "weights": -3.25
         },
         {
          "biases": 2.125,
          "count": 0,
          "weights": -3.25
         },
         {
          "biases": 2.875,
          "count": 4959,
          "weights": -3.25
         },
         {
          "biases": 3.625,
          "count": 1814,
          "weights": -3.25
         },
         {
          "biases": 4.375,
          "count": 0,
          "weights": -3.25
         },
         {
          "biases": 5.125,
          "count": 0,
          "weights": -3.25
         },
         {
          "biases": 5.875,
          "count": 0,
          "weights": -3.25
         },
         {
          "biases": 6.625,
          "count": 0,
          "weights": -3.25
         },
         {
          "biases": 7.375,
          "count": 0,
          "weights": -3.25
         },
         {
          "biases": 8.125,
          "count": 0,
          "weights": -3.25
         },
         {
          "biases": 8.875,
          "count": 0,
          "weights": -3.25
         },
         {
          "biases": 9.625,
          "count": 17,
          "weights": -3.25
         },
         {
          "biases": -4.625,
          "count": 0,
          "weights": -2.75
         },
         {
          "biases": -3.875,
          "count": 0,
          "weights": -2.75
         },
         {
          "biases": -3.125,
          "count": 0,
          "weights": -2.75
         },
         {
          "biases": -2.375,
          "count": 0,
          "weights": -2.75
         },
         {
          "biases": -1.625,
          "count": 0,
          "weights": -2.75
         },
         {
          "biases": -0.875,
          "count": 0,
          "weights": -2.75
         },
         {
          "biases": -0.125,
          "count": 0,
          "weights": -2.75
         },
         {
          "biases": 0.625,
          "count": 0,
          "weights": -2.75
         },
         {
          "biases": 1.375,
          "count": 0,
          "weights": -2.75
         },
         {
          "biases": 2.125,
          "count": 0,
          "weights": -2.75
         },
         {
          "biases": 2.875,
          "count": 12415,
          "weights": -2.75
         },
         {
          "biases": 3.625,
          "count": 10211,
          "weights": -2.75
         },
         {
          "biases": 4.375,
          "count": 0,
          "weights": -2.75
         },
         {
          "biases": 5.125,
          "count": 0,
          "weights": -2.75
         },
         {
          "biases": 5.875,
          "count": 0,
          "weights": -2.75
         },
         {
          "biases": 6.625,
          "count": 0,
          "weights": -2.75
         },
         {
          "biases": 7.375,
          "count": 0,
          "weights": -2.75
         },
         {
          "biases": 8.125,
          "count": 0,
          "weights": -2.75
         },
         {
          "biases": 8.875,
          "count": 0,
          "weights": -2.75
         },
         {
          "biases": 9.625,
          "count": 0,
          "weights": -2.75
         },
         {
          "biases": -4.625,
          "count": 0,
          "weights": -2.25
         },
         {
          "biases": -3.875,
          "count": 0,
          "weights": -2.25
         },
         {
          "biases": -3.125,
          "count": 0,
          "weights": -2.25
         },
         {
          "biases": -2.375,
          "count": 0,
          "weights": -2.25
         },
         {
          "biases": -1.625,
          "count": 0,
          "weights": -2.25
         },
         {
          "biases": -0.875,
          "count": 0,
          "weights": -2.25
         },
         {
          "biases": -0.125,
          "count": 0,
          "weights": -2.25
         },
         {
          "biases": 0.625,
          "count": 0,
          "weights": -2.25
         },
         {
          "biases": 1.375,
          "count": 0,
          "weights": -2.25
         },
         {
          "biases": 2.125,
          "count": 556,
          "weights": -2.25
         },
         {
          "biases": 2.875,
          "count": 15189,
          "weights": -2.25
         },
         {
          "biases": 3.625,
          "count": 10229,
          "weights": -2.25
         },
         {
          "biases": 4.375,
          "count": 0,
          "weights": -2.25
         },
         {
          "biases": 5.125,
          "count": 0,
          "weights": -2.25
         },
         {
          "biases": 5.875,
          "count": 0,
          "weights": -2.25
         },
         {
          "biases": 6.625,
          "count": 0,
          "weights": -2.25
         },
         {
          "biases": 7.375,
          "count": 0,
          "weights": -2.25
         },
         {
          "biases": 8.125,
          "count": 0,
          "weights": -2.25
         },
         {
          "biases": 8.875,
          "count": 0,
          "weights": -2.25
         },
         {
          "biases": 9.625,
          "count": 0,
          "weights": -2.25
         },
         {
          "biases": -4.625,
          "count": 0,
          "weights": -1.75
         },
         {
          "biases": -3.875,
          "count": 0,
          "weights": -1.75
         },
         {
          "biases": -3.125,
          "count": 0,
          "weights": -1.75
         },
         {
          "biases": -2.375,
          "count": 0,
          "weights": -1.75
         },
         {
          "biases": -1.625,
          "count": 0,
          "weights": -1.75
         },
         {
          "biases": -0.875,
          "count": 0,
          "weights": -1.75
         },
         {
          "biases": -0.125,
          "count": 0,
          "weights": -1.75
         },
         {
          "biases": 0.625,
          "count": 0,
          "weights": -1.75
         },
         {
          "biases": 1.375,
          "count": 0,
          "weights": -1.75
         },
         {
          "biases": 2.125,
          "count": 0,
          "weights": -1.75
         },
         {
          "biases": 2.875,
          "count": 2138,
          "weights": -1.75
         },
         {
          "biases": 3.625,
          "count": 1386,
          "weights": -1.75
         },
         {
          "biases": 4.375,
          "count": 0,
          "weights": -1.75
         },
         {
          "biases": 5.125,
          "count": 0,
          "weights": -1.75
         },
         {
          "biases": 5.875,
          "count": 0,
          "weights": -1.75
         },
         {
          "biases": 6.625,
          "count": 0,
          "weights": -1.75
         },
         {
          "biases": 7.375,
          "count": 0,
          "weights": -1.75
         },
         {
          "biases": 8.125,
          "count": 0,
          "weights": -1.75
         },
         {
          "biases": 8.875,
          "count": 0,
          "weights": -1.75
         },
         {
          "biases": 9.625,
          "count": 15,
          "weights": -1.75
         },
         {
          "biases": -4.625,
          "count": 0,
          "weights": -1.25
         },
         {
          "biases": -3.875,
          "count": 0,
          "weights": -1.25
         },
         {
          "biases": -3.125,
          "count": 0,
          "weights": -1.25
         },
         {
          "biases": -2.375,
          "count": 0,
          "weights": -1.25
         },
         {
          "biases": -1.625,
          "count": 0,
          "weights": -1.25
         },
         {
          "biases": -0.875,
          "count": 0,
          "weights": -1.25
         },
         {
          "biases": -0.125,
          "count": 0,
          "weights": -1.25
         },
         {
          "biases": 0.625,
          "count": 0,
          "weights": -1.25
         },
         {
          "biases": 1.375,
          "count": 10,
          "weights": -1.25
         },
         {
          "biases": 2.125,
          "count": 0,
          "weights": -1.25
         },
         {
          "biases": 2.875,
          "count": 0,
          "weights": -1.25
         },
         {
          "biases": 3.625,
          "count": 0,
          "weights": -1.25
         },
         {
          "biases": 4.375,
          "count": 0,
          "weights": -1.25
         },
         {
          "biases": 5.125,
          "count": 37,
          "weights": -1.25
         },
         {
          "biases": 5.875,
          "count": 13,
          "weights": -1.25
         },
         {
          "biases": 6.625,
          "count": 0,
          "weights": -1.25
         },
         {
          "biases": 7.375,
          "count": 9,
          "weights": -1.25
         },
         {
          "biases": 8.125,
          "count": 0,
          "weights": -1.25
         },
         {
          "biases": 8.875,
          "count": 0,
          "weights": -1.25
         },
         {
          "biases": 9.625,
          "count": 128,
          "weights": -1.25
         },
         {
          "biases": -4.625,
          "count": 0,
          "weights": -0.75
         },
         {
          "biases": -3.875,
          "count": 0,
          "weights": -0.75
         },
         {
          "biases": -3.125,
          "count": 0,
          "weights": -0.75
         },
         {
          "biases": -2.375,
          "count": 0,
          "weights": -0.75
         },
         {
          "biases": -1.625,
          "count": 0,
          "weights": -0.75
         },
         {
          "biases": -0.875,
          "count": 0,
          "weights": -0.75
         },
         {
          "biases": -0.125,
          "count": 0,
          "weights": -0.75
         },
         {
          "biases": 0.625,
          "count": 0,
          "weights": -0.75
         },
         {
          "biases": 1.375,
          "count": 0,
          "weights": -0.75
         },
         {
          "biases": 2.125,
          "count": 70,
          "weights": -0.75
         },
         {
          "biases": 2.875,
          "count": 65,
          "weights": -0.75
         },
         {
          "biases": 3.625,
          "count": 228,
          "weights": -0.75
         },
         {
          "biases": 4.375,
          "count": 2,
          "weights": -0.75
         },
         {
          "biases": 5.125,
          "count": 4,
          "weights": -0.75
         },
         {
          "biases": 5.875,
          "count": 0,
          "weights": -0.75
         },
         {
          "biases": 6.625,
          "count": 57,
          "weights": -0.75
         },
         {
          "biases": 7.375,
          "count": 1,
          "weights": -0.75
         },
         {
          "biases": 8.125,
          "count": 0,
          "weights": -0.75
         },
         {
          "biases": 8.875,
          "count": 54,
          "weights": -0.75
         },
         {
          "biases": 9.625,
          "count": 19,
          "weights": -0.75
         },
         {
          "biases": -4.625,
          "count": 0,
          "weights": -0.25
         },
         {
          "biases": -3.875,
          "count": 0,
          "weights": -0.25
         },
         {
          "biases": -3.125,
          "count": 0,
          "weights": -0.25
         },
         {
          "biases": -2.375,
          "count": 0,
          "weights": -0.25
         },
         {
          "biases": -1.625,
          "count": 0,
          "weights": -0.25
         },
         {
          "biases": -0.875,
          "count": 0,
          "weights": -0.25
         },
         {
          "biases": -0.125,
          "count": 0,
          "weights": -0.25
         },
         {
          "biases": 0.625,
          "count": 0,
          "weights": -0.25
         },
         {
          "biases": 1.375,
          "count": 0,
          "weights": -0.25
         },
         {
          "biases": 2.125,
          "count": 3,
          "weights": -0.25
         },
         {
          "biases": 2.875,
          "count": 51,
          "weights": -0.25
         },
         {
          "biases": 3.625,
          "count": 40,
          "weights": -0.25
         },
         {
          "biases": 4.375,
          "count": 50,
          "weights": -0.25
         },
         {
          "biases": 5.125,
          "count": 0,
          "weights": -0.25
         },
         {
          "biases": 5.875,
          "count": 0,
          "weights": -0.25
         },
         {
          "biases": 6.625,
          "count": 10,
          "weights": -0.25
         },
         {
          "biases": 7.375,
          "count": 4,
          "weights": -0.25
         },
         {
          "biases": 8.125,
          "count": 0,
          "weights": -0.25
         },
         {
          "biases": 8.875,
          "count": 4,
          "weights": -0.25
         },
         {
          "biases": 9.625,
          "count": 10,
          "weights": -0.25
         },
         {
          "biases": -4.625,
          "count": 0,
          "weights": 0.25
         },
         {
          "biases": -3.875,
          "count": 0,
          "weights": 0.25
         },
         {
          "biases": -3.125,
          "count": 0,
          "weights": 0.25
         },
         {
          "biases": -2.375,
          "count": 0,
          "weights": 0.25
         },
         {
          "biases": -1.625,
          "count": 0,
          "weights": 0.25
         },
         {
          "biases": -0.875,
          "count": 0,
          "weights": 0.25
         },
         {
          "biases": -0.125,
          "count": 0,
          "weights": 0.25
         },
         {
          "biases": 0.625,
          "count": 38,
          "weights": 0.25
         },
         {
          "biases": 1.375,
          "count": 1,
          "weights": 0.25
         },
         {
          "biases": 2.125,
          "count": 0,
          "weights": 0.25
         },
         {
          "biases": 2.875,
          "count": 0,
          "weights": 0.25
         },
         {
          "biases": 3.625,
          "count": 0,
          "weights": 0.25
         },
         {
          "biases": 4.375,
          "count": 0,
          "weights": 0.25
         },
         {
          "biases": 5.125,
          "count": 18,
          "weights": 0.25
         },
         {
          "biases": 5.875,
          "count": 0,
          "weights": 0.25
         },
         {
          "biases": 6.625,
          "count": 61,
          "weights": 0.25
         },
         {
          "biases": 7.375,
          "count": 81,
          "weights": 0.25
         },
         {
          "biases": 8.125,
          "count": 0,
          "weights": 0.25
         },
         {
          "biases": 8.875,
          "count": 0,
          "weights": 0.25
         },
         {
          "biases": 9.625,
          "count": 37,
          "weights": 0.25
         },
         {
          "biases": -4.625,
          "count": 0,
          "weights": 0.75
         },
         {
          "biases": -3.875,
          "count": 0,
          "weights": 0.75
         },
         {
          "biases": -3.125,
          "count": 0,
          "weights": 0.75
         },
         {
          "biases": -2.375,
          "count": 0,
          "weights": 0.75
         },
         {
          "biases": -1.625,
          "count": 0,
          "weights": 0.75
         },
         {
          "biases": -0.875,
          "count": 0,
          "weights": 0.75
         },
         {
          "biases": -0.125,
          "count": 245,
          "weights": 0.75
         },
         {
          "biases": 0.625,
          "count": 336,
          "weights": 0.75
         },
         {
          "biases": 1.375,
          "count": 0,
          "weights": 0.75
         },
         {
          "biases": 2.125,
          "count": 0,
          "weights": 0.75
         },
         {
          "biases": 2.875,
          "count": 0,
          "weights": 0.75
         },
         {
          "biases": 3.625,
          "count": 0,
          "weights": 0.75
         },
         {
          "biases": 4.375,
          "count": 0,
          "weights": 0.75
         },
         {
          "biases": 5.125,
          "count": 61,
          "weights": 0.75
         },
         {
          "biases": 5.875,
          "count": 76,
          "weights": 0.75
         },
         {
          "biases": 6.625,
          "count": 58,
          "weights": 0.75
         },
         {
          "biases": 7.375,
          "count": 110,
          "weights": 0.75
         },
         {
          "biases": 8.125,
          "count": 20,
          "weights": 0.75
         },
         {
          "biases": 8.875,
          "count": 0,
          "weights": 0.75
         },
         {
          "biases": 9.625,
          "count": 1,
          "weights": 0.75
         },
         {
          "biases": -4.625,
          "count": 0,
          "weights": 1.25
         },
         {
          "biases": -3.875,
          "count": 0,
          "weights": 1.25
         },
         {
          "biases": -3.125,
          "count": 0,
          "weights": 1.25
         },
         {
          "biases": -2.375,
          "count": 0,
          "weights": 1.25
         },
         {
          "biases": -1.625,
          "count": 0,
          "weights": 1.25
         },
         {
          "biases": -0.875,
          "count": 0,
          "weights": 1.25
         },
         {
          "biases": -0.125,
          "count": 310,
          "weights": 1.25
         },
         {
          "biases": 0.625,
          "count": 226,
          "weights": 1.25
         },
         {
          "biases": 1.375,
          "count": 0,
          "weights": 1.25
         },
         {
          "biases": 2.125,
          "count": 0,
          "weights": 1.25
         },
         {
          "biases": 2.875,
          "count": 0,
          "weights": 1.25
         },
         {
          "biases": 3.625,
          "count": 0,
          "weights": 1.25
         },
         {
          "biases": 4.375,
          "count": 0,
          "weights": 1.25
         },
         {
          "biases": 5.125,
          "count": 0,
          "weights": 1.25
         },
         {
          "biases": 5.875,
          "count": 15,
          "weights": 1.25
         },
         {
          "biases": 6.625,
          "count": 280,
          "weights": 1.25
         },
         {
          "biases": 7.375,
          "count": 0,
          "weights": 1.25
         },
         {
          "biases": 8.125,
          "count": 0,
          "weights": 1.25
         },
         {
          "biases": 8.875,
          "count": 0,
          "weights": 1.25
         },
         {
          "biases": 9.625,
          "count": 3,
          "weights": 1.25
         },
         {
          "biases": -4.625,
          "count": 0,
          "weights": 1.75
         },
         {
          "biases": -3.875,
          "count": 0,
          "weights": 1.75
         },
         {
          "biases": -3.125,
          "count": 0,
          "weights": 1.75
         },
         {
          "biases": -2.375,
          "count": 0,
          "weights": 1.75
         },
         {
          "biases": -1.625,
          "count": 0,
          "weights": 1.75
         },
         {
          "biases": -0.875,
          "count": 0,
          "weights": 1.75
         },
         {
          "biases": -0.125,
          "count": 9800,
          "weights": 1.75
         },
         {
          "biases": 0.625,
          "count": 6448,
          "weights": 1.75
         },
         {
          "biases": 1.375,
          "count": 0,
          "weights": 1.75
         },
         {
          "biases": 2.125,
          "count": 0,
          "weights": 1.75
         },
         {
          "biases": 2.875,
          "count": 0,
          "weights": 1.75
         },
         {
          "biases": 3.625,
          "count": 0,
          "weights": 1.75
         },
         {
          "biases": 4.375,
          "count": 0,
          "weights": 1.75
         },
         {
          "biases": 5.125,
          "count": 0,
          "weights": 1.75
         },
         {
          "biases": 5.875,
          "count": 4664,
          "weights": 1.75
         },
         {
          "biases": 6.625,
          "count": 4182,
          "weights": 1.75
         },
         {
          "biases": 7.375,
          "count": 0,
          "weights": 1.75
         },
         {
          "biases": 8.125,
          "count": 0,
          "weights": 1.75
         },
         {
          "biases": 8.875,
          "count": 0,
          "weights": 1.75
         },
         {
          "biases": 9.625,
          "count": 7,
          "weights": 1.75
         },
         {
          "biases": -4.625,
          "count": 0,
          "weights": 2.25
         },
         {
          "biases": -3.875,
          "count": 0,
          "weights": 2.25
         },
         {
          "biases": -3.125,
          "count": 0,
          "weights": 2.25
         },
         {
          "biases": -2.375,
          "count": 0,
          "weights": 2.25
         },
         {
          "biases": -1.625,
          "count": 0,
          "weights": 2.25
         },
         {
          "biases": -0.875,
          "count": 0,
          "weights": 2.25
         },
         {
          "biases": -0.125,
          "count": 20237,
          "weights": 2.25
         },
         {
          "biases": 0.625,
          "count": 14355,
          "weights": 2.25
         },
         {
          "biases": 1.375,
          "count": 0,
          "weights": 2.25
         },
         {
          "biases": 2.125,
          "count": 0,
          "weights": 2.25
         },
         {
          "biases": 2.875,
          "count": 0,
          "weights": 2.25
         },
         {
          "biases": 3.625,
          "count": 0,
          "weights": 2.25
         },
         {
          "biases": 4.375,
          "count": 0,
          "weights": 2.25
         },
         {
          "biases": 5.125,
          "count": 0,
          "weights": 2.25
         },
         {
          "biases": 5.875,
          "count": 20614,
          "weights": 2.25
         },
         {
          "biases": 6.625,
          "count": 10555,
          "weights": 2.25
         },
         {
          "biases": 7.375,
          "count": 0,
          "weights": 2.25
         },
         {
          "biases": 8.125,
          "count": 0,
          "weights": 2.25
         },
         {
          "biases": 8.875,
          "count": 0,
          "weights": 2.25
         },
         {
          "biases": 9.625,
          "count": 45,
          "weights": 2.25
         },
         {
          "biases": -4.625,
          "count": 0,
          "weights": 2.75
         },
         {
          "biases": -3.875,
          "count": 0,
          "weights": 2.75
         },
         {
          "biases": -3.125,
          "count": 0,
          "weights": 2.75
         },
         {
          "biases": -2.375,
          "count": 0,
          "weights": 2.75
         },
         {
          "biases": -1.625,
          "count": 0,
          "weights": 2.75
         },
         {
          "biases": -0.875,
          "count": 0,
          "weights": 2.75
         },
         {
          "biases": -0.125,
          "count": 2793,
          "weights": 2.75
         },
         {
          "biases": 0.625,
          "count": 4988,
          "weights": 2.75
         },
         {
          "biases": 1.375,
          "count": 0,
          "weights": 2.75
         },
         {
          "biases": 2.125,
          "count": 0,
          "weights": 2.75
         },
         {
          "biases": 2.875,
          "count": 0,
          "weights": 2.75
         },
         {
          "biases": 3.625,
          "count": 0,
          "weights": 2.75
         },
         {
          "biases": 4.375,
          "count": 0,
          "weights": 2.75
         },
         {
          "biases": 5.125,
          "count": 34,
          "weights": 2.75
         },
         {
          "biases": 5.875,
          "count": 9033,
          "weights": 2.75
         },
         {
          "biases": 6.625,
          "count": 7198,
          "weights": 2.75
         },
         {
          "biases": 7.375,
          "count": 0,
          "weights": 2.75
         },
         {
          "biases": 8.125,
          "count": 0,
          "weights": 2.75
         },
         {
          "biases": 8.875,
          "count": 0,
          "weights": 2.75
         },
         {
          "biases": 9.625,
          "count": 18,
          "weights": 2.75
         },
         {
          "biases": -4.625,
          "count": 0,
          "weights": 3.25
         },
         {
          "biases": -3.875,
          "count": 0,
          "weights": 3.25
         },
         {
          "biases": -3.125,
          "count": 0,
          "weights": 3.25
         },
         {
          "biases": -2.375,
          "count": 0,
          "weights": 3.25
         },
         {
          "biases": -1.625,
          "count": 0,
          "weights": 3.25
         },
         {
          "biases": -0.875,
          "count": 0,
          "weights": 3.25
         },
         {
          "biases": -0.125,
          "count": 0,
          "weights": 3.25
         },
         {
          "biases": 0.625,
          "count": 0,
          "weights": 3.25
         },
         {
          "biases": 1.375,
          "count": 0,
          "weights": 3.25
         },
         {
          "biases": 2.125,
          "count": 0,
          "weights": 3.25
         },
         {
          "biases": 2.875,
          "count": 0,
          "weights": 3.25
         },
         {
          "biases": 3.625,
          "count": 0,
          "weights": 3.25
         },
         {
          "biases": 4.375,
          "count": 0,
          "weights": 3.25
         },
         {
          "biases": 5.125,
          "count": 0,
          "weights": 3.25
         },
         {
          "biases": 5.875,
          "count": 2277,
          "weights": 3.25
         },
         {
          "biases": 6.625,
          "count": 628,
          "weights": 3.25
         },
         {
          "biases": 7.375,
          "count": 0,
          "weights": 3.25
         },
         {
          "biases": 8.125,
          "count": 0,
          "weights": 3.25
         },
         {
          "biases": 8.875,
          "count": 0,
          "weights": 3.25
         },
         {
          "biases": 9.625,
          "count": 4,
          "weights": 3.25
         },
         {
          "biases": -4.625,
          "count": 0,
          "weights": 3.75
         },
         {
          "biases": -3.875,
          "count": 0,
          "weights": 3.75
         },
         {
          "biases": -3.125,
          "count": 0,
          "weights": 3.75
         },
         {
          "biases": -2.375,
          "count": 0,
          "weights": 3.75
         },
         {
          "biases": -1.625,
          "count": 0,
          "weights": 3.75
         },
         {
          "biases": -0.875,
          "count": 0,
          "weights": 3.75
         },
         {
          "biases": -0.125,
          "count": 7,
          "weights": 3.75
         },
         {
          "biases": 0.625,
          "count": 0,
          "weights": 3.75
         },
         {
          "biases": 1.375,
          "count": 0,
          "weights": 3.75
         },
         {
          "biases": 2.125,
          "count": 0,
          "weights": 3.75
         },
         {
          "biases": 2.875,
          "count": 0,
          "weights": 3.75
         },
         {
          "biases": 3.625,
          "count": 0,
          "weights": 3.75
         },
         {
          "biases": 4.375,
          "count": 0,
          "weights": 3.75
         },
         {
          "biases": 5.125,
          "count": 13,
          "weights": 3.75
         },
         {
          "biases": 5.875,
          "count": 0,
          "weights": 3.75
         },
         {
          "biases": 6.625,
          "count": 0,
          "weights": 3.75
         },
         {
          "biases": 7.375,
          "count": 0,
          "weights": 3.75
         },
         {
          "biases": 8.125,
          "count": 0,
          "weights": 3.75
         },
         {
          "biases": 8.875,
          "count": 0,
          "weights": 3.75
         },
         {
          "biases": 9.625,
          "count": 16,
          "weights": 3.75
         },
         {
          "biases": -4.625,
          "count": 0,
          "weights": 4.25
         },
         {
          "biases": -3.875,
          "count": 0,
          "weights": 4.25
         },
         {
          "biases": -3.125,
          "count": 0,
          "weights": 4.25
         },
         {
          "biases": -2.375,
          "count": 0,
          "weights": 4.25
         },
         {
          "biases": -1.625,
          "count": 0,
          "weights": 4.25
         },
         {
          "biases": -0.875,
          "count": 0,
          "weights": 4.25
         },
         {
          "biases": -0.125,
          "count": 0,
          "weights": 4.25
         },
         {
          "biases": 0.625,
          "count": 0,
          "weights": 4.25
         },
         {
          "biases": 1.375,
          "count": 0,
          "weights": 4.25
         },
         {
          "biases": 2.125,
          "count": 0,
          "weights": 4.25
         },
         {
          "biases": 2.875,
          "count": 0,
          "weights": 4.25
         },
         {
          "biases": 3.625,
          "count": 0,
          "weights": 4.25
         },
         {
          "biases": 4.375,
          "count": 0,
          "weights": 4.25
         },
         {
          "biases": 5.125,
          "count": 0,
          "weights": 4.25
         },
         {
          "biases": 5.875,
          "count": 0,
          "weights": 4.25
         },
         {
          "biases": 6.625,
          "count": 0,
          "weights": 4.25
         },
         {
          "biases": 7.375,
          "count": 0,
          "weights": 4.25
         },
         {
          "biases": 8.125,
          "count": 0,
          "weights": 4.25
         },
         {
          "biases": 8.875,
          "count": 0,
          "weights": 4.25
         },
         {
          "biases": 9.625,
          "count": 0,
          "weights": 4.25
         },
         {
          "biases": -4.625,
          "count": 0,
          "weights": 4.75
         },
         {
          "biases": -3.875,
          "count": 0,
          "weights": 4.75
         },
         {
          "biases": -3.125,
          "count": 0,
          "weights": 4.75
         },
         {
          "biases": -2.375,
          "count": 0,
          "weights": 4.75
         },
         {
          "biases": -1.625,
          "count": 0,
          "weights": 4.75
         },
         {
          "biases": -0.875,
          "count": 0,
          "weights": 4.75
         },
         {
          "biases": -0.125,
          "count": 0,
          "weights": 4.75
         },
         {
          "biases": 0.625,
          "count": 0,
          "weights": 4.75
         },
         {
          "biases": 1.375,
          "count": 0,
          "weights": 4.75
         },
         {
          "biases": 2.125,
          "count": 0,
          "weights": 4.75
         },
         {
          "biases": 2.875,
          "count": 0,
          "weights": 4.75
         },
         {
          "biases": 3.625,
          "count": 0,
          "weights": 4.75
         },
         {
          "biases": 4.375,
          "count": 0,
          "weights": 4.75
         },
         {
          "biases": 5.125,
          "count": 0,
          "weights": 4.75
         },
         {
          "biases": 5.875,
          "count": 0,
          "weights": 4.75
         },
         {
          "biases": 6.625,
          "count": 0,
          "weights": 4.75
         },
         {
          "biases": 7.375,
          "count": 0,
          "weights": 4.75
         },
         {
          "biases": 8.125,
          "count": 0,
          "weights": 4.75
         },
         {
          "biases": 8.875,
          "count": 0,
          "weights": 4.75
         },
         {
          "biases": 9.625,
          "count": 11,
          "weights": 4.75
         }
        ]
       },
       "description": "Plot",
       "height": 300,
       "layer": [
        {
         "encoding": {
          "fill": {
           "field": "count",
           "scale": {
            "scheme": {
             "extent": [
              0,
              1
             ],
             "name": "blues"
            }
           },
           "type": "quantitative"
          },
          "stroke": {
           "field": "count",
           "legend": {
            "type": "gradient"
           },
           "scale": {
            "scheme": {
             "extent": [
              0,
              1
             ],
             "name": "blues"
            }
           },
           "type": "quantitative"
          },
          "x": {
           "axis": {
            "gridOpacity": 0.1
           },
           "field": "biases",
           "type": "nominal"
          },
          "y": {
           "axis": {
            "gridOpacity": 0.1
           },
           "field": "weights",
           "sort": "descending",
           "type": "nominal"
          }
         },
         "mark": "rect"
        }
       ],
       "width": 600
      },
      "image/png": "[encoded data removed]"
     },
     "metadata": {},
     "output_type": "display_data"
    }
   ],
   "source": [
    "ws = mconcat $ toList . weights . fst <$> predicted\n",
    "bs = mconcat $ toList . biass . fst <$> predicted\n",
    "\n",
    "hist = histo2D (-5, 20, 10) (-5, 20, 5) (zip bs ws)\n",
    "cents = Vec.toList $ DH.binsCenters $ DH.bins hist\n",
    "val = Vec.toList $ DH.histData hist\n",
    "vlShow $\n",
    "  plot\n",
    "    (600, 300)\n",
    "    (L [imagePlot \"biases\" \"weights\" \"count\"])\n",
    "    ( Cols\n",
    "        [ (\"biases\", VL.Numbers (fst <$> cents)),\n",
    "          (\"weights\", VL.Numbers (snd <$> cents)),\n",
    "          (\"count\", VL.Numbers val)]\n",
    "    )"
   ]
  },
  {
   "cell_type": "markdown",
   "metadata": {},
   "source": [
    "It might look confusing but it is easy to understand:\n",
    "the x-axis shows the step position (`biass`) and the y-axis shows the step amplitude (`weights`).\n",
    "We have trained a three-node, that means three-step, neural network, and indeed we see three fixed positions and amplitudes in the histogram.\n",
    "Around `(0, 2)`, around `(3, -3)` and around `(6, 2)` - yes, and indeed those are the steps that are fitting the sinus.\n",
    "These values are quite approximate because we add a lot of deviation from those steps (standard deviation `1`) that we need because we are fitting a sinus with step functions."
   ]
  },
  {
   "cell_type": "markdown",
   "metadata": {},
   "source": [
    "### Conclusions\n",
    "\n",
    "That's it.\n",
    "In this blog post, we walked step-by-step through a very simple neural network model with the `monad-bayes` library.\n",
    "It demonstrates how `monad-bayes` can be combined with other libraries such as `hmatrix` and illustrates the role of forward and error models in Bayesian analysis.\n",
    "\n",
    "In future blog posts, we will explore more complex models, and also different sampling strategies."
   ]
  }
 ],
 "metadata": {
  "kernelspec": {
   "display_name": "Haskell - monad-bayes",
   "language": "haskell",
   "name": "ihaskell_monad-bayes"
  },
  "language_info": {
   "codemirror_mode": "ihaskell",
   "file_extension": ".hs",
   "name": "haskell",
   "pygments_lexer": "Haskell",
   "version": "8.6.5"
  }
 },
 "nbformat": 4,
 "nbformat_minor": 4
}
