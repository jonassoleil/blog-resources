{
 "cells": [
  {
   "cell_type": "markdown",
   "metadata": {},
   "source": [
    "# Markov Chain Monte Carlo (MCMC) sampling, part I: the basics"
   ]
  },
  {
   "cell_type": "markdown",
   "metadata": {},
   "source": [
    "Markov Chain Monte Carlo (MCMC) is a powerful class of methods to sample from probability distributions known only up to an (unknown) normalization constant.\n",
    "But before we dive into MCMC, let's consider why you might want to do sampling in the first place.  \n",
    "The answer to that is: whenever you need to fully characterize a distribution because you're either interested in the samples themselves or because you need them to approximate expectations of functions w.r.t. to a probability distribution.\n",
    "Sometimes, only the mode of a probability distribution is of primary interest. In this case, it can be obtained by numerical optimization and full sampling is not necessary. \n",
    "It turns out that sampling from any but the most basic probability distributions is a difficult task, because for those, you usually don't know the normalization constant.\n",
    "You then can't easily get random numbers distributed according to this distribution: [inverse transform sampling](https://en.wikipedia.org/wiki/Inverse_transform_sampling) requires proper, normalized distributions.\n",
    "Now in principle you could just obtain the normalization constant by numerical integration, but this quickly gets infeasible with increasing number of dimensions.\n",
    "[Rejection sampling](https://en.wikipedia.org/wiki/Rejection_sampling) does not require normalized distributions, but implementing it efficiently can be very hard and requires a good deal of knowledge about the distribution of interest.\n",
    "That's when you need a smart way to obtain representative samples from your distribution which doesn't require knowledge of the normalization constant.  \n",
    "MCMC algorithms are a class of methods which do exactly that.\n",
    "These methods date back to a seminal paper by Metropolis et al., who developed the first MCMC algorithm, correspondingly called [Metropolis algorithm](https://en.wikipedia.org/wiki/Metropolis%E2%80%93Hastings_algorithm), to calculate the equation of state of a two-dimensional system of hard spheres, but really were looking for a general method to calculate expectation values occurring in statistical physics.   \n",
    "\n",
    "In this series of blog posts, I will introduce several important, increasingly complex MCMC algorithms.\n",
    "Along the way, I hope you will acquire a solid understanding of challenges you may face when sampling from non-standard probability distributions and how to address them with the methods presented here.   "
   ]
  },
  {
   "cell_type": "markdown",
   "metadata": {},
   "source": [
    "## Markov chains"
   ]
  },
  {
   "cell_type": "markdown",
   "metadata": {},
   "source": [
    "Now that we know why we want to sample, let's get to the heart of MCMC &mdash; Markov chains.\n",
    "What is a Markov chain?\n",
    "Really informally and without all the technical details, a Markov chain is a random sequence of states in some state space in which the probability of picking a certain state next depends only on the current state in the chain and not on the previous history: it is memory-less.\n",
    "Under certain conditions, a Markov chain has a unique stationary distribution of states to which it will converge after a certain number of states.\n",
    "From that number on, states in the Markov chain will be distributed according to the invariant distribution.\n",
    "MCMC algorithms work by constructing a Markov chain with the probability distribution you want to sample from as the stationary distribution."
   ]
  },
  {
   "cell_type": "markdown",
   "metadata": {},
   "source": [
    "For didactic purposes, let's for now consider both a discrete state space and discrete \"time\".\n",
    "The key quantity characterizing a Markov chain is the transition operator $T(x_{i+1}|x_i)$ which gives you the probability of being in state $x_{i+1}$ at time $i+1$ given that the chain is in state $x_i$ at time $i$."
   ]
  },
  {
   "cell_type": "markdown",
   "metadata": {},
   "source": [
    "Now just for fun (and for illustration), let's quickly whip up a Markov chain which has a unique stationary distribution.\n",
    "We'll start with some imports and settings for the plots:"
   ]
  },
  {
   "cell_type": "code",
   "execution_count": 1,
   "metadata": {},
   "outputs": [],
   "source": [
    "%matplotlib notebook\n",
    "%matplotlib inline\n",
    "import numpy as np\n",
    "import matplotlib.pyplot as plt\n",
    "plt.rcParams['figure.figsize'] = [10, 6]\n",
    "np.random.seed(42)"
   ]
  },
  {
   "cell_type": "markdown",
   "metadata": {},
   "source": [
    "The Markov chain will hop around on a discrete state space which is made up from three weather states:"
   ]
  },
  {
   "cell_type": "code",
   "execution_count": 2,
   "metadata": {},
   "outputs": [],
   "source": [
    "state_space = (\"sunny\", \"cloudy\", \"rainy\")"
   ]
  },
  {
   "cell_type": "markdown",
   "metadata": {},
   "source": [
    "In a discrete state space, the transition operator is just a matrix.\n",
    "Columns and rows correspond, in our case, to sunny, cloudy, and rainy weather.\n",
    "We pick more or less sensible values for all transition probabilities:"
   ]
  },
  {
   "cell_type": "code",
   "execution_count": 3,
   "metadata": {},
   "outputs": [],
   "source": [
    "transition_matrix = np.array(((0.6, 0.3, 0.1),\n",
    "                              (0.3, 0.4, 0.3),\n",
    "                              (0.2, 0.3, 0.5)))"
   ]
  },
  {
   "cell_type": "markdown",
   "metadata": {},
   "source": [
    "The rows indicate the states the chain might currently be in and the columns the states the chains might transition to.\n",
    "If we take one \"time\" step of the Markov chain as one hour, then, if it's sunny, there's a 60% chance it stays sunny in the next hour, a 30% chance that in the next hour we will have cloudy weather and only a 10% chance of it raining immediately after it had been sunny before.\n",
    "This also means that each row has to sum up to one."
   ]
  },
  {
   "cell_type": "markdown",
   "metadata": {},
   "source": [
    "Let's run our Markov chain for a while:"
   ]
  },
  {
   "cell_type": "code",
   "execution_count": 4,
   "metadata": {},
   "outputs": [],
   "source": [
    "n_steps = 20000\n",
    "states = [0]\n",
    "for i in range(n_steps):\n",
    "    states.append(np.random.choice((0, 1, 2), p=transition_matrix[states[-1]]))\n",
    "states = np.array(states)"
   ]
  },
  {
   "cell_type": "markdown",
   "metadata": {},
   "source": [
    "We can monitor the convergence of our Markov chain to its stationary distribution by calculating the empirical probability for each of the states as a function of chain length:"
   ]
  },
  {
   "cell_type": "code",
   "execution_count": 5,
   "metadata": {},
   "outputs": [
    {
     "data": {
      "image/png": "[encoded data removed]",
      "text/plain": [
       "<Figure size 720x432 with 1 Axes>"
      ]
     },
     "metadata": {
      "needs_background": "light"
     },
     "output_type": "display_data"
    }
   ],
   "source": [
    "def despine(ax, spines=('top', 'left', 'right')):\n",
    "    for spine in spines:\n",
    "        ax.spines[spine].set_visible(False)\n",
    "\n",
    "fig, ax = plt.subplots()\n",
    "width = 1000\n",
    "offsets = range(1, n_steps, 5)\n",
    "for i, label in enumerate(state_space):\n",
    "    ax.plot(offsets, [np.sum(states[:offset] == i) / offset \n",
    "            for offset in offsets], label=label)\n",
    "ax.set_xlabel(\"number of steps\")\n",
    "ax.set_ylabel(\"empirical probability\")\n",
    "ax.legend(frameon=False)\n",
    "despine(ax, ('top', 'right'))\n",
    "plt.show()"
   ]
  },
  {
   "cell_type": "markdown",
   "metadata": {},
   "source": [
    "## The mother of all MCMC algorithms: Metropolis-Hastings"
   ]
  },
  {
   "cell_type": "markdown",
   "metadata": {},
   "source": [
    "So all that is fun, but back to sampling an arbitrary probability distribution $\\pi$. \n",
    "It could either be discrete, in which case we would keep talking about a transition matrix $T$, or it could be continous, so that $T$ would be a transition *kernel*.\n",
    "From now on, we're considering continuous distributions, but all concepts presented here transfer to the discrete case.  \n",
    "If we could design the transition kernel in such a way that the next state is already drawn from $\\pi$, we would be done, as our Markov Chain would... well...  immediately sample from $\\pi$.\n",
    "Unfortunately, to do this, we need to be able to sample from $\\pi$, which we can't.\n",
    "Otherwise you wouldn't be reading this, right?  \n",
    "A way around this is to split up the transition kernel $T(x_{i+1}|x_i)$ into two parts:\n",
    "a proposal distribution $q(x_{i+1}|x_i)$, from which we can sample possible next states, and an acceptance probability $p_\\mathrm{acc}(x_{i+1}|x_i)$ which determines if a proposal $x_{i+1}$ is accepted as the next state in the chain or not.\n",
    "This acceptance / rejection step corrects for the error introduced by proposal states from $q \\neq \\pi$.\n",
    "We thus have \n",
    "$$\n",
    "T(x_{i+1}|x_i)=q(x_{i+1} | x_i) \\times p_\\mathrm{acc}(x_{i+1}|x_i) \\ \\mbox .\n",
    "$$\n",
    "A sufficient condition for a Markov chain to have $\\pi$ as its stationary distribution is the transition kernel obeying *detailed balance* or, more intuitively, *microscopic reversibility*:\n",
    "$$\n",
    "\\pi(x_i) T(x_{i+1}|x_i) = \\pi(x_{i+1}) T(x_i|x_{i+1})\n",
    "$$\n",
    "This means that the probability of being in a state $x_i$ and transitioning to $x_{i+1}$ must be equal to the probability of the reverse process, namely, being in state $x_{i+1}$ and transitioning to $x_i$.\n",
    "Transition kernels of most MCMC algorithms satisfy this condition.   \n",
    "For the two-part transition kernel to obey detailed balance, we need to choose $p_\\mathrm{acc}$ correctly, meaning that is has to correct for any asymmetries in probability flow from / to $x_{i+1}$ or $x_i$.\n",
    "One possibility is the Metropolis acceptance criterion: \n",
    "$$\n",
    "p_\\mathrm{acc}(x_{i+1}|x_i) = \\mathrm{min} \\left\\{1, \\frac{\\pi(x_{i+1}) \\times q(x_i|x_{i+1})}{\\pi(x_i) \\times q(x_{i+1}|x_i)} \\right\\} \\ \\mbox .\n",
    "$$\n",
    "Often, symmetric proposal distributions with $q(x_i|x_{i+1})=q(x_{i+1}|x_i)$ are used, in which case the Metropolis-Hastings algorithm reduces to the original, but less general Metropolis algorithm developed in 1953 and for which\n",
    "$$\n",
    "p_\\mathrm{acc}(x_{i+1}|x_i) = \\mathrm{min} \\left\\{1, \\frac{\\pi(x_{i+1})}{\\pi(x_i)} \\right\\} \\ \\mbox .\n",
    "$$\n",
    "Formally, we can then write the complete Metropolis-Hastings transition kernel as\n",
    "$$\n",
    "T(x_{i+1}|x_i) = \\begin{cases}\n",
    "                   q(x_{i+1}|x_i) \\times p_\\mathrm{acc}(x_{i+1}|x_i) &: x_{i+1} \\neq x_i \\mbox ; \\\\\n",
    "                   1 - \\int \\mathrm{d}x_{i+1} \\ q(x_{i+1}|x_i) \\times p_\\mathrm{acc}(x_{i+1}|x_i) &: x_{i+1} = x_i\\mbox .\n",
    "                 \\end{cases} \n",
    "$$\n",
    "A step is then performed as follows: a proposal state $x_{i+1}$ is drawn from $q(x_{i+1}|x_i)$.\n",
    "It is then accepted as the next state with probability $p_\\mathrm{acc}(x_{i+1}|x_i)$ or rejected with probability $1-p_\\mathrm{acc}(x_{i+1}|x_i)$, in which case the current state is copied as the next state.  \n"
   ]
  },
  {
   "cell_type": "markdown",
   "metadata": {},
   "source": [
    "Alright, now that we now how Metropolis-Hastings works, let's go ahead and implement it.\n",
    "First, we set the log-probability of the distribution we want to sample from - without normalization constants, as we pretend we don't know them.\n",
    "Let's work for now with a standard normal distribution:"
   ]
  },
  {
   "cell_type": "code",
   "execution_count": 6,
   "metadata": {},
   "outputs": [],
   "source": [
    "def log_prob(x):\n",
    "     return -0.5 * np.sum(x ** 2)"
   ]
  },
  {
   "cell_type": "markdown",
   "metadata": {},
   "source": [
    "Next, we choose a symmetric proposal distribution.\n",
    "In general, including information you have about the distribution you want to sample from in the proposal distribution will lead to better performance of the Metropolis-Hastings algorithm. \n",
    "A naive approach is to just take the current state $x$ and pick a proposal from $\\mathcal{U}(x-\\frac{\\Delta}{2}, x+\\frac{\\Delta}{2})$, that is, we set some step size $\\Delta$ and move left or right a maximum of $\\frac{\\Delta}{2}$ from our current state:"
   ]
  },
  {
   "cell_type": "code",
   "execution_count": 7,
   "metadata": {},
   "outputs": [],
   "source": [
    "def proposal(x, stepsize):\n",
    "    return np.random.uniform(low=x - 0.5 * stepsize, \n",
    "                             high=x + 0.5 * stepsize, \n",
    "                             size=x.shape)"
   ]
  },
  {
   "cell_type": "markdown",
   "metadata": {},
   "source": [
    "Finally, we calculate our acceptance probability:"
   ]
  },
  {
   "cell_type": "code",
   "execution_count": 8,
   "metadata": {},
   "outputs": [],
   "source": [
    "def p_acc_MH(x_new, x_old, log_prob):\n",
    "    return min(1, np.exp(log_prob(x_new) - log_prob(x_old)))"
   ]
  },
  {
   "cell_type": "markdown",
   "metadata": {},
   "source": [
    "Now we piece all this together into our really brief implementation of a Metropolis-Hastings sampling step:"
   ]
  },
  {
   "cell_type": "code",
   "execution_count": 12,
   "metadata": {},
   "outputs": [],
   "source": [
    "def sample_MH(x_old, log_prob, stepsize):\n",
    "    x_new = proposal(x_old, stepsize)\n",
    "    # here we determine whether we accept the new state or not:\n",
    "    # we draw a random number uniformly from [0,1] and compare\n",
    "    # it with the acceptance probability\n",
    "    accept = np.random.random() < p_acc_MH(x_new, x_old, log_prob)\n",
    "    if accept:\n",
    "        return accept, x_new\n",
    "    else:\n",
    "        return accept, x_old"
   ]
  },
  {
   "cell_type": "markdown",
   "metadata": {},
   "source": [
    "Apart from the next state in the Markov chain, `x_new` or `x_old`, we also return whether the MCMC move was accepted or not.\n",
    "This will allow us to keep track of the acceptance rate.\n",
    "Let's complete our implementation by writing a function that iteratively calls `sample_MH` and thus builds up the Markov chain:"
   ]
  },
  {
   "cell_type": "code",
   "execution_count": 13,
   "metadata": {},
   "outputs": [],
   "source": [
    "def build_MH_chain(init, stepsize, n_total, log_prob):\n",
    "\n",
    "    n_accepted = 0\n",
    "    chain = [init]\n",
    "\n",
    "    for _ in range(n_total):\n",
    "        accept, state = sample_MH(chain[-1], log_prob, stepsize)\n",
    "        chain.append(state)\n",
    "        n_accepted += accept\n",
    "    \n",
    "    acceptance_rate = n_accepted / float(n_total)\n",
    "    \n",
    "    return chain, acceptance_rate"
   ]
  },
  {
   "cell_type": "markdown",
   "metadata": {},
   "source": [
    "Now you're probably excited to see this in action.\n",
    "Here we go, taking some informed guesses at the `stepsize` and `n_total` arguments:"
   ]
  },
  {
   "cell_type": "code",
   "execution_count": 14,
   "metadata": {},
   "outputs": [
    {
     "name": "stdout",
     "output_type": "stream",
     "text": [
      "Acceptance rate: 0.719\n",
      "Last ten states of chain: 1.60194, 0.14617, -1.13052, 0.24360, -0.77219, -0.59475, 0.67935, 1.47293, 1.27589, 0.67263\n"
     ]
    }
   ],
   "source": [
    "chain, acceptance_rate = build_MH_chain(np.array([2.0]), 3.0, 10000, log_prob)\n",
    "chain = [state for state, in chain]\n",
    "print(\"Acceptance rate: {:.3f}\".format(acceptance_rate))\n",
    "last_states = \", \".join(\"{:.5f}\".format(state) \n",
    "                        for state in chain[-10:])\n",
    "print(\"Last ten states of chain: \" + last_states)"
   ]
  },
  {
   "cell_type": "markdown",
   "metadata": {},
   "source": [
    "Alright.\n",
    "So did this work?\n",
    "We achieved an acceptance rate of around 71% and we have a chain of states.\n",
    "We should throw away the first few states during which the chain won't have converged to its stationary distribution yet.\n",
    "Let's check whether the states we drew are actually normally distributed:"
   ]
  },
  {
   "cell_type": "code",
   "execution_count": 15,
   "metadata": {},
   "outputs": [
    {
     "data": {
      "image/png": "[encoded data removed]",
      "text/plain": [
       "<Figure size 720x432 with 1 Axes>"
      ]
     },
     "metadata": {
      "needs_background": "light"
     },
     "output_type": "display_data"
    }
   ],
   "source": [
    "def plot_samples(chain, log_prob, ax, orientation='vertical', normalize=True,\n",
    "                 xlims=(-5, 5), legend=True):\n",
    "    from scipy.integrate import quad\n",
    "    \n",
    "    ax.hist(chain, bins=50, density=True, label=\"MCMC samples\",\n",
    "           orientation=orientation)\n",
    "    # we numerically calculate the normalization constant of our PDF\n",
    "    if normalize:\n",
    "        Z, _ = quad(lambda x: np.exp(log_prob(x)), -np.inf, np.inf)\n",
    "    else:\n",
    "        Z = 1.0\n",
    "    xses = np.linspace(xlims[0], xlims[1], 1000)\n",
    "    yses = [np.exp(log_prob(x)) / Z for x in xses]\n",
    "    if orientation == 'horizontal':\n",
    "        (yses, xses) = (xses, yses)\n",
    "    ax.plot(xses, yses, label=\"true distribution\")\n",
    "    if legend:\n",
    "        ax.legend(frameon=False)\n",
    "    \n",
    "fig, ax = plt.subplots()\n",
    "plot_samples(chain[500:], log_prob, ax)\n",
    "despine(ax)\n",
    "ax.set_yticks(())\n",
    "plt.show()"
   ]
  },
  {
   "cell_type": "markdown",
   "metadata": {},
   "source": [
    "Looks great!"
   ]
  },
  {
   "cell_type": "markdown",
   "metadata": {},
   "source": [
    "Now, what's up with the parameters `stepsize` and `n_total`?\n",
    "We'll discuss the step size first: it determines how big the random steps are the Markov chain takes.\n",
    "If the step size is too large, we will jump around a lot in the tails of the distribution, where probability is low.\n",
    "The Metropolis-Hastings sampler will reject most of these moves, meaning that the acceptance rate decreases and convergence is much slower.\n",
    "See for yourself:"
   ]
  },
  {
   "cell_type": "code",
   "execution_count": 16,
   "metadata": {},
   "outputs": [
    {
     "name": "stdout",
     "output_type": "stream",
     "text": [
      "Acceptance rate: 0.104\n"
     ]
    },
    {
     "data": {
      "image/png": "[encoded data removed]",
      "text/plain": [
       "<Figure size 720x432 with 1 Axes>"
      ]
     },
     "metadata": {
      "needs_background": "light"
     },
     "output_type": "display_data"
    }
   ],
   "source": [
    "def sample_and_display(init_state, stepsize, n_total, n_burnin, log_prob):\n",
    "    chain, acceptance_rate = build_MH_chain(init_state, stepsize, n_total, log_prob)\n",
    "    print(\"Acceptance rate: {:.3f}\".format(acceptance_rate))\n",
    "    fig, ax = plt.subplots()\n",
    "    plot_samples([state for state, in chain[n_burnin:]], log_prob, ax)\n",
    "    despine(ax)\n",
    "    ax.set_yticks(())\n",
    "    plt.show()\n",
    "    \n",
    "sample_and_display(np.array([2.0]), 30, 10000, 500, log_prob)"
   ]
  },
  {
   "cell_type": "markdown",
   "metadata": {},
   "source": [
    "Not so cool, right?\n",
    "Now you could think the best thing to do is do choose a tiny step size.\n",
    "Turns out that this is not too smart, either, because then the Markov chain will explore the probability distribution only very slowly and thus again won't converge as rapidly as with a well-adjusted step size:"
   ]
  },
  {
   "cell_type": "code",
   "execution_count": 17,
   "metadata": {},
   "outputs": [
    {
     "name": "stdout",
     "output_type": "stream",
     "text": [
      "Acceptance rate: 0.985\n"
     ]
    },
    {
     "data": {
      "image/png": "[encoded data removed]",
      "text/plain": [
       "<Figure size 720x432 with 1 Axes>"
      ]
     },
     "metadata": {
      "needs_background": "light"
     },
     "output_type": "display_data"
    }
   ],
   "source": [
    "sample_and_display(np.array([2.0]), 0.1, 10000, 500, log_prob)"
   ]
  },
  {
   "cell_type": "markdown",
   "metadata": {},
   "source": [
    "No matter how you choose the step size parameter, the Markov chain will eventually converge to its stationary distribution.\n",
    "But it may take a looooong time.\n",
    "The time we simulate the Markov chain for is set by the `n_total` parameter - it simply determines how many states we will end up with.\n",
    "If the chain converges slowly, we need to increase `n_total` in order to give the Markov chain enough time to forget it's initial state.\n",
    "So let's keep the tiny step size and increase the number of samples by increasing `n_total`:"
   ]
  },
  {
   "cell_type": "code",
   "execution_count": 18,
   "metadata": {},
   "outputs": [
    {
     "name": "stdout",
     "output_type": "stream",
     "text": [
      "Acceptance rate: 0.990\n"
     ]
    },
    {
     "data": {
      "image/png": "[encoded data removed]",
      "text/plain": [
       "<Figure size 720x432 with 1 Axes>"
      ]
     },
     "metadata": {
      "needs_background": "light"
     },
     "output_type": "display_data"
    }
   ],
   "source": [
    "sample_and_display(np.array([2.0]), 0.1, 500000, 25000, log_prob)"
   ]
  },
  {
   "cell_type": "markdown",
   "metadata": {},
   "source": [
    "Sloooowly getting there..."
   ]
  },
  {
   "cell_type": "markdown",
   "metadata": {},
   "source": [
    "## Conclusions"
   ]
  },
  {
   "cell_type": "markdown",
   "metadata": {},
   "source": [
    "With these considerations, I conclude the first blog post of this series.\n",
    "I hope you now understand the intuition behind the Metropolis-Hastings algorithm, its parameters and why it is an extremely useful tool to sample from non-standard probability distributions you might encounter out there in the wild.  \n",
    "I highly encourage you to play around with the code in this notebook - this way you will learn how the algorithm behaves in various circumstances and deepen your understanding of it.\n",
    "Go ahead and try out a non-symmetric proposal distribution!\n",
    "What happens if you don't adjust the acceptance criterion accordingly?\n",
    "What happens if you try to sample from a bimodal distribution?\n",
    "Can you think of a way to automatically tune the stepsize?\n",
    "What are pitfalls here?\n",
    "Try out and discover yourself!  \n",
    "In the next post, I will discuss the Gibbs sampler - a special case of the Metropolis-Hastings algorithm which allows you to approximately sample from a multivariate distribution by sampling from the conditional distributions."
   ]
  }
 ],
 "metadata": {
  "kernelspec": {
   "display_name": "Python 3",
   "language": "python",
   "name": "python3"
  },
  "language_info": {
   "codemirror_mode": {
    "name": "ipython",
    "version": 3
   },
   "file_extension": ".py",
   "mimetype": "text/x-python",
   "name": "python",
   "nbconvert_exporter": "python",
   "pygments_lexer": "ipython3",
   "version": "3.7.3"
  }
 },
 "nbformat": 4,
 "nbformat_minor": 2
}
